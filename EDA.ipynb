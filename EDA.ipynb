{
 "cells": [
  {
   "attachments": {},
   "cell_type": "markdown",
   "metadata": {},
   "source": [
    "# EDA\n",
    "\n",
    "![](data:image/jpeg;base64,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)"
   ]
  },
  {
   "cell_type": "code",
   "execution_count": 344,
   "metadata": {},
   "outputs": [],
   "source": [
    "import warnings\n",
    "\n",
    "warnings.filterwarnings(\"ignore\")\n",
    "\n",
    "import pandas as pd\n",
    "import numpy as np\n",
    "import matplotlib.pyplot as plt\n",
    "import seaborn as sns\n",
    "import datetime\n",
    "import plotly.express as px\n",
    "\n",
    "\n",
    "\n",
    "from matplotlib.ticker import PercentFormatter\n",
    "plt.rcParams.update({ \"figure.figsize\" : (8, 5),\"axes.facecolor\" : \"white\", \"axes.edgecolor\":  \"black\"})\n",
    "plt.rcParams[\"figure.facecolor\"]= \"w\"\n",
    "pd.plotting.register_matplotlib_converters()\n",
    "pd.set_option('display.float_format', lambda x: '%.3f' % x)"
   ]
  },
  {
   "cell_type": "code",
   "execution_count": 345,
   "metadata": {},
   "outputs": [],
   "source": [
    "df = pd.read_csv(\"data/eda.csv\")"
   ]
  },
  {
   "cell_type": "code",
   "execution_count": 346,
   "metadata": {},
   "outputs": [
    {
     "data": {
      "text/html": [
       "<div>\n",
       "<style scoped>\n",
       "    .dataframe tbody tr th:only-of-type {\n",
       "        vertical-align: middle;\n",
       "    }\n",
       "\n",
       "    .dataframe tbody tr th {\n",
       "        vertical-align: top;\n",
       "    }\n",
       "\n",
       "    .dataframe thead th {\n",
       "        text-align: right;\n",
       "    }\n",
       "</style>\n",
       "<table border=\"1\" class=\"dataframe\">\n",
       "  <thead>\n",
       "    <tr style=\"text-align: right;\">\n",
       "      <th></th>\n",
       "      <th>date</th>\n",
       "      <th>price</th>\n",
       "      <th>house_id</th>\n",
       "      <th>id</th>\n",
       "      <th>id.1</th>\n",
       "      <th>bedrooms</th>\n",
       "      <th>bathrooms</th>\n",
       "      <th>sqft_living</th>\n",
       "      <th>sqft_lot</th>\n",
       "      <th>floors</th>\n",
       "      <th>...</th>\n",
       "      <th>grade</th>\n",
       "      <th>sqft_above</th>\n",
       "      <th>sqft_basement</th>\n",
       "      <th>yr_built</th>\n",
       "      <th>yr_renovated</th>\n",
       "      <th>zipcode</th>\n",
       "      <th>lat</th>\n",
       "      <th>long</th>\n",
       "      <th>sqft_living15</th>\n",
       "      <th>sqft_lot15</th>\n",
       "    </tr>\n",
       "  </thead>\n",
       "  <tbody>\n",
       "    <tr>\n",
       "      <th>0</th>\n",
       "      <td>2014-10-13</td>\n",
       "      <td>221900.000</td>\n",
       "      <td>7129300520</td>\n",
       "      <td>1</td>\n",
       "      <td>7129300520</td>\n",
       "      <td>3.000</td>\n",
       "      <td>1.000</td>\n",
       "      <td>1180.000</td>\n",
       "      <td>5650.000</td>\n",
       "      <td>1.000</td>\n",
       "      <td>...</td>\n",
       "      <td>7</td>\n",
       "      <td>1180.000</td>\n",
       "      <td>0.000</td>\n",
       "      <td>1955</td>\n",
       "      <td>0.000</td>\n",
       "      <td>98178</td>\n",
       "      <td>47.511</td>\n",
       "      <td>-122.257</td>\n",
       "      <td>1340.000</td>\n",
       "      <td>5650.000</td>\n",
       "    </tr>\n",
       "    <tr>\n",
       "      <th>1</th>\n",
       "      <td>2014-12-09</td>\n",
       "      <td>538000.000</td>\n",
       "      <td>6414100192</td>\n",
       "      <td>2</td>\n",
       "      <td>6414100192</td>\n",
       "      <td>3.000</td>\n",
       "      <td>2.250</td>\n",
       "      <td>2570.000</td>\n",
       "      <td>7242.000</td>\n",
       "      <td>2.000</td>\n",
       "      <td>...</td>\n",
       "      <td>7</td>\n",
       "      <td>2170.000</td>\n",
       "      <td>400.000</td>\n",
       "      <td>1951</td>\n",
       "      <td>19910.000</td>\n",
       "      <td>98125</td>\n",
       "      <td>47.721</td>\n",
       "      <td>-122.319</td>\n",
       "      <td>1690.000</td>\n",
       "      <td>7639.000</td>\n",
       "    </tr>\n",
       "    <tr>\n",
       "      <th>2</th>\n",
       "      <td>2015-02-25</td>\n",
       "      <td>180000.000</td>\n",
       "      <td>5631500400</td>\n",
       "      <td>3</td>\n",
       "      <td>5631500400</td>\n",
       "      <td>2.000</td>\n",
       "      <td>1.000</td>\n",
       "      <td>770.000</td>\n",
       "      <td>10000.000</td>\n",
       "      <td>1.000</td>\n",
       "      <td>...</td>\n",
       "      <td>6</td>\n",
       "      <td>770.000</td>\n",
       "      <td>0.000</td>\n",
       "      <td>1933</td>\n",
       "      <td>NaN</td>\n",
       "      <td>98028</td>\n",
       "      <td>47.738</td>\n",
       "      <td>-122.233</td>\n",
       "      <td>2720.000</td>\n",
       "      <td>8062.000</td>\n",
       "    </tr>\n",
       "    <tr>\n",
       "      <th>3</th>\n",
       "      <td>2014-12-09</td>\n",
       "      <td>604000.000</td>\n",
       "      <td>2487200875</td>\n",
       "      <td>4</td>\n",
       "      <td>2487200875</td>\n",
       "      <td>4.000</td>\n",
       "      <td>3.000</td>\n",
       "      <td>1960.000</td>\n",
       "      <td>5000.000</td>\n",
       "      <td>1.000</td>\n",
       "      <td>...</td>\n",
       "      <td>7</td>\n",
       "      <td>1050.000</td>\n",
       "      <td>910.000</td>\n",
       "      <td>1965</td>\n",
       "      <td>0.000</td>\n",
       "      <td>98136</td>\n",
       "      <td>47.521</td>\n",
       "      <td>-122.393</td>\n",
       "      <td>1360.000</td>\n",
       "      <td>5000.000</td>\n",
       "    </tr>\n",
       "    <tr>\n",
       "      <th>4</th>\n",
       "      <td>2015-02-18</td>\n",
       "      <td>510000.000</td>\n",
       "      <td>1954400510</td>\n",
       "      <td>5</td>\n",
       "      <td>1954400510</td>\n",
       "      <td>3.000</td>\n",
       "      <td>2.000</td>\n",
       "      <td>1680.000</td>\n",
       "      <td>8080.000</td>\n",
       "      <td>1.000</td>\n",
       "      <td>...</td>\n",
       "      <td>8</td>\n",
       "      <td>1680.000</td>\n",
       "      <td>0.000</td>\n",
       "      <td>1987</td>\n",
       "      <td>0.000</td>\n",
       "      <td>98074</td>\n",
       "      <td>47.617</td>\n",
       "      <td>-122.045</td>\n",
       "      <td>1800.000</td>\n",
       "      <td>7503.000</td>\n",
       "    </tr>\n",
       "  </tbody>\n",
       "</table>\n",
       "<p>5 rows × 23 columns</p>\n",
       "</div>"
      ],
      "text/plain": [
       "         date      price    house_id  id        id.1  bedrooms  bathrooms  \\\n",
       "0  2014-10-13 221900.000  7129300520   1  7129300520     3.000      1.000   \n",
       "1  2014-12-09 538000.000  6414100192   2  6414100192     3.000      2.250   \n",
       "2  2015-02-25 180000.000  5631500400   3  5631500400     2.000      1.000   \n",
       "3  2014-12-09 604000.000  2487200875   4  2487200875     4.000      3.000   \n",
       "4  2015-02-18 510000.000  1954400510   5  1954400510     3.000      2.000   \n",
       "\n",
       "   sqft_living  sqft_lot  floors  ...  grade  sqft_above  sqft_basement  \\\n",
       "0     1180.000  5650.000   1.000  ...      7    1180.000          0.000   \n",
       "1     2570.000  7242.000   2.000  ...      7    2170.000        400.000   \n",
       "2      770.000 10000.000   1.000  ...      6     770.000          0.000   \n",
       "3     1960.000  5000.000   1.000  ...      7    1050.000        910.000   \n",
       "4     1680.000  8080.000   1.000  ...      8    1680.000          0.000   \n",
       "\n",
       "   yr_built  yr_renovated  zipcode    lat     long  sqft_living15  sqft_lot15  \n",
       "0      1955         0.000    98178 47.511 -122.257       1340.000    5650.000  \n",
       "1      1951     19910.000    98125 47.721 -122.319       1690.000    7639.000  \n",
       "2      1933           NaN    98028 47.738 -122.233       2720.000    8062.000  \n",
       "3      1965         0.000    98136 47.521 -122.393       1360.000    5000.000  \n",
       "4      1987         0.000    98074 47.617 -122.045       1800.000    7503.000  \n",
       "\n",
       "[5 rows x 23 columns]"
      ]
     },
     "execution_count": 346,
     "metadata": {},
     "output_type": "execute_result"
    }
   ],
   "source": [
    "df.head()"
   ]
  },
  {
   "attachments": {},
   "cell_type": "markdown",
   "metadata": {},
   "source": [
    "# Column Names and descriptions for King County Data Set\n",
    "\n",
    "- **id** - unique identified for a house\n",
    "\n",
    "- **dateDate** - house was sold\n",
    "\n",
    "- **pricePrice** - is prediction target\n",
    "\n",
    "- **bedroomsNumber** - # of bedrooms\n",
    "\n",
    "- **bathroomsNumber** - # of bathrooms\n",
    "\n",
    "- **sqft_livingsquare** - footage of the home\n",
    "\n",
    "- **sqft_lotsquare** - footage of the lot\n",
    "\n",
    "- **floorsTotal** - floors (levels) in house\n",
    "\n",
    "- **waterfront** - House which has a view to a waterfront\n",
    "\n",
    "- **view** - Has been viewed\n",
    "\n",
    "- **condition** - How good the condition is ( Overall )\n",
    "\n",
    "- **grade** - overall grade given to the housing unit, based on King County grading system\n",
    "\n",
    "- **sqft_above** - square footage of house apart from basement\n",
    "\n",
    "- **sqft_basement** - square footage of the basement\n",
    "\n",
    "- **yr_built** - Built Year\n",
    "\n",
    "- **yr_renovated** - Year when house was renovated\n",
    "\n",
    "- **zipcode** - zip\n",
    "\n",
    "- **lat** - Latitude coordinate\n",
    "\n",
    "- **long** - Longitude coordinate\n",
    "\n",
    "- **sqft_living15** - The square footage of interior housing living space for the nearest 15 neighbors\n",
    "\n",
    "- **sqft_lot15** - The square footage of the land lots of the nearest 15 neighbors\n"
   ]
  },
  {
   "cell_type": "code",
   "execution_count": 347,
   "metadata": {},
   "outputs": [
    {
     "name": "stdout",
     "output_type": "stream",
     "text": [
      "<class 'pandas.core.frame.DataFrame'>\n",
      "RangeIndex: 21597 entries, 0 to 21596\n",
      "Data columns (total 23 columns):\n",
      " #   Column         Non-Null Count  Dtype  \n",
      "---  ------         --------------  -----  \n",
      " 0   date           21597 non-null  object \n",
      " 1   price          21597 non-null  float64\n",
      " 2   house_id       21597 non-null  int64  \n",
      " 3   id             21597 non-null  int64  \n",
      " 4   id.1           21597 non-null  int64  \n",
      " 5   bedrooms       21597 non-null  float64\n",
      " 6   bathrooms      21597 non-null  float64\n",
      " 7   sqft_living    21597 non-null  float64\n",
      " 8   sqft_lot       21597 non-null  float64\n",
      " 9   floors         21597 non-null  float64\n",
      " 10  waterfront     19206 non-null  float64\n",
      " 11  view           21534 non-null  float64\n",
      " 12  condition      21597 non-null  int64  \n",
      " 13  grade          21597 non-null  int64  \n",
      " 14  sqft_above     21597 non-null  float64\n",
      " 15  sqft_basement  21145 non-null  float64\n",
      " 16  yr_built       21597 non-null  int64  \n",
      " 17  yr_renovated   17749 non-null  float64\n",
      " 18  zipcode        21597 non-null  int64  \n",
      " 19  lat            21597 non-null  float64\n",
      " 20  long           21597 non-null  float64\n",
      " 21  sqft_living15  21597 non-null  float64\n",
      " 22  sqft_lot15     21597 non-null  float64\n",
      "dtypes: float64(15), int64(7), object(1)\n",
      "memory usage: 3.8+ MB\n"
     ]
    }
   ],
   "source": [
    "df.info()"
   ]
  },
  {
   "cell_type": "code",
   "execution_count": 348,
   "metadata": {},
   "outputs": [
    {
     "data": {
      "text/plain": [
       "(21597, 23)"
      ]
     },
     "execution_count": 348,
     "metadata": {},
     "output_type": "execute_result"
    }
   ],
   "source": [
    "df.shape"
   ]
  },
  {
   "cell_type": "code",
   "execution_count": 349,
   "metadata": {},
   "outputs": [
    {
     "data": {
      "text/html": [
       "<div>\n",
       "<style scoped>\n",
       "    .dataframe tbody tr th:only-of-type {\n",
       "        vertical-align: middle;\n",
       "    }\n",
       "\n",
       "    .dataframe tbody tr th {\n",
       "        vertical-align: top;\n",
       "    }\n",
       "\n",
       "    .dataframe thead th {\n",
       "        text-align: right;\n",
       "    }\n",
       "</style>\n",
       "<table border=\"1\" class=\"dataframe\">\n",
       "  <thead>\n",
       "    <tr style=\"text-align: right;\">\n",
       "      <th></th>\n",
       "      <th>price</th>\n",
       "      <th>house_id</th>\n",
       "      <th>id</th>\n",
       "      <th>id.1</th>\n",
       "      <th>bedrooms</th>\n",
       "      <th>bathrooms</th>\n",
       "      <th>sqft_living</th>\n",
       "      <th>sqft_lot</th>\n",
       "      <th>floors</th>\n",
       "      <th>waterfront</th>\n",
       "      <th>...</th>\n",
       "      <th>grade</th>\n",
       "      <th>sqft_above</th>\n",
       "      <th>sqft_basement</th>\n",
       "      <th>yr_built</th>\n",
       "      <th>yr_renovated</th>\n",
       "      <th>zipcode</th>\n",
       "      <th>lat</th>\n",
       "      <th>long</th>\n",
       "      <th>sqft_living15</th>\n",
       "      <th>sqft_lot15</th>\n",
       "    </tr>\n",
       "  </thead>\n",
       "  <tbody>\n",
       "    <tr>\n",
       "      <th>count</th>\n",
       "      <td>21597.000</td>\n",
       "      <td>21597.000</td>\n",
       "      <td>21597.000</td>\n",
       "      <td>21597.000</td>\n",
       "      <td>21597.000</td>\n",
       "      <td>21597.000</td>\n",
       "      <td>21597.000</td>\n",
       "      <td>21597.000</td>\n",
       "      <td>21597.000</td>\n",
       "      <td>19206.000</td>\n",
       "      <td>...</td>\n",
       "      <td>21597.000</td>\n",
       "      <td>21597.000</td>\n",
       "      <td>21145.000</td>\n",
       "      <td>21597.000</td>\n",
       "      <td>17749.000</td>\n",
       "      <td>21597.000</td>\n",
       "      <td>21597.000</td>\n",
       "      <td>21597.000</td>\n",
       "      <td>21597.000</td>\n",
       "      <td>21597.000</td>\n",
       "    </tr>\n",
       "    <tr>\n",
       "      <th>mean</th>\n",
       "      <td>540296.574</td>\n",
       "      <td>4580474287.771</td>\n",
       "      <td>10799.000</td>\n",
       "      <td>4580474287.771</td>\n",
       "      <td>3.373</td>\n",
       "      <td>2.116</td>\n",
       "      <td>2080.322</td>\n",
       "      <td>15099.409</td>\n",
       "      <td>1.494</td>\n",
       "      <td>0.008</td>\n",
       "      <td>...</td>\n",
       "      <td>7.658</td>\n",
       "      <td>1788.597</td>\n",
       "      <td>291.857</td>\n",
       "      <td>1971.000</td>\n",
       "      <td>836.651</td>\n",
       "      <td>98077.952</td>\n",
       "      <td>47.560</td>\n",
       "      <td>-122.214</td>\n",
       "      <td>1986.620</td>\n",
       "      <td>12758.284</td>\n",
       "    </tr>\n",
       "    <tr>\n",
       "      <th>std</th>\n",
       "      <td>367368.140</td>\n",
       "      <td>2876735715.748</td>\n",
       "      <td>6234.661</td>\n",
       "      <td>2876735715.748</td>\n",
       "      <td>0.926</td>\n",
       "      <td>0.769</td>\n",
       "      <td>918.106</td>\n",
       "      <td>41412.637</td>\n",
       "      <td>0.540</td>\n",
       "      <td>0.087</td>\n",
       "      <td>...</td>\n",
       "      <td>1.173</td>\n",
       "      <td>827.760</td>\n",
       "      <td>442.491</td>\n",
       "      <td>29.375</td>\n",
       "      <td>4000.111</td>\n",
       "      <td>53.513</td>\n",
       "      <td>0.139</td>\n",
       "      <td>0.141</td>\n",
       "      <td>685.230</td>\n",
       "      <td>27274.442</td>\n",
       "    </tr>\n",
       "    <tr>\n",
       "      <th>min</th>\n",
       "      <td>78000.000</td>\n",
       "      <td>1000102.000</td>\n",
       "      <td>1.000</td>\n",
       "      <td>1000102.000</td>\n",
       "      <td>1.000</td>\n",
       "      <td>0.500</td>\n",
       "      <td>370.000</td>\n",
       "      <td>520.000</td>\n",
       "      <td>1.000</td>\n",
       "      <td>0.000</td>\n",
       "      <td>...</td>\n",
       "      <td>3.000</td>\n",
       "      <td>370.000</td>\n",
       "      <td>0.000</td>\n",
       "      <td>1900.000</td>\n",
       "      <td>0.000</td>\n",
       "      <td>98001.000</td>\n",
       "      <td>47.156</td>\n",
       "      <td>-122.519</td>\n",
       "      <td>399.000</td>\n",
       "      <td>651.000</td>\n",
       "    </tr>\n",
       "    <tr>\n",
       "      <th>25%</th>\n",
       "      <td>322000.000</td>\n",
       "      <td>2123049175.000</td>\n",
       "      <td>5400.000</td>\n",
       "      <td>2123049175.000</td>\n",
       "      <td>3.000</td>\n",
       "      <td>1.750</td>\n",
       "      <td>1430.000</td>\n",
       "      <td>5040.000</td>\n",
       "      <td>1.000</td>\n",
       "      <td>0.000</td>\n",
       "      <td>...</td>\n",
       "      <td>7.000</td>\n",
       "      <td>1190.000</td>\n",
       "      <td>0.000</td>\n",
       "      <td>1951.000</td>\n",
       "      <td>0.000</td>\n",
       "      <td>98033.000</td>\n",
       "      <td>47.471</td>\n",
       "      <td>-122.328</td>\n",
       "      <td>1490.000</td>\n",
       "      <td>5100.000</td>\n",
       "    </tr>\n",
       "    <tr>\n",
       "      <th>50%</th>\n",
       "      <td>450000.000</td>\n",
       "      <td>3904930410.000</td>\n",
       "      <td>10799.000</td>\n",
       "      <td>3904930410.000</td>\n",
       "      <td>3.000</td>\n",
       "      <td>2.250</td>\n",
       "      <td>1910.000</td>\n",
       "      <td>7618.000</td>\n",
       "      <td>1.500</td>\n",
       "      <td>0.000</td>\n",
       "      <td>...</td>\n",
       "      <td>7.000</td>\n",
       "      <td>1560.000</td>\n",
       "      <td>0.000</td>\n",
       "      <td>1975.000</td>\n",
       "      <td>0.000</td>\n",
       "      <td>98065.000</td>\n",
       "      <td>47.572</td>\n",
       "      <td>-122.231</td>\n",
       "      <td>1840.000</td>\n",
       "      <td>7620.000</td>\n",
       "    </tr>\n",
       "    <tr>\n",
       "      <th>75%</th>\n",
       "      <td>645000.000</td>\n",
       "      <td>7308900490.000</td>\n",
       "      <td>16198.000</td>\n",
       "      <td>7308900490.000</td>\n",
       "      <td>4.000</td>\n",
       "      <td>2.500</td>\n",
       "      <td>2550.000</td>\n",
       "      <td>10685.000</td>\n",
       "      <td>2.000</td>\n",
       "      <td>0.000</td>\n",
       "      <td>...</td>\n",
       "      <td>8.000</td>\n",
       "      <td>2210.000</td>\n",
       "      <td>560.000</td>\n",
       "      <td>1997.000</td>\n",
       "      <td>0.000</td>\n",
       "      <td>98118.000</td>\n",
       "      <td>47.678</td>\n",
       "      <td>-122.125</td>\n",
       "      <td>2360.000</td>\n",
       "      <td>10083.000</td>\n",
       "    </tr>\n",
       "    <tr>\n",
       "      <th>max</th>\n",
       "      <td>7700000.000</td>\n",
       "      <td>9900000190.000</td>\n",
       "      <td>21597.000</td>\n",
       "      <td>9900000190.000</td>\n",
       "      <td>33.000</td>\n",
       "      <td>8.000</td>\n",
       "      <td>13540.000</td>\n",
       "      <td>1651359.000</td>\n",
       "      <td>3.500</td>\n",
       "      <td>1.000</td>\n",
       "      <td>...</td>\n",
       "      <td>13.000</td>\n",
       "      <td>9410.000</td>\n",
       "      <td>4820.000</td>\n",
       "      <td>2015.000</td>\n",
       "      <td>20150.000</td>\n",
       "      <td>98199.000</td>\n",
       "      <td>47.778</td>\n",
       "      <td>-121.315</td>\n",
       "      <td>6210.000</td>\n",
       "      <td>871200.000</td>\n",
       "    </tr>\n",
       "  </tbody>\n",
       "</table>\n",
       "<p>8 rows × 22 columns</p>\n",
       "</div>"
      ],
      "text/plain": [
       "            price       house_id        id           id.1  bedrooms  \\\n",
       "count   21597.000      21597.000 21597.000      21597.000 21597.000   \n",
       "mean   540296.574 4580474287.771 10799.000 4580474287.771     3.373   \n",
       "std    367368.140 2876735715.748  6234.661 2876735715.748     0.926   \n",
       "min     78000.000    1000102.000     1.000    1000102.000     1.000   \n",
       "25%    322000.000 2123049175.000  5400.000 2123049175.000     3.000   \n",
       "50%    450000.000 3904930410.000 10799.000 3904930410.000     3.000   \n",
       "75%    645000.000 7308900490.000 16198.000 7308900490.000     4.000   \n",
       "max   7700000.000 9900000190.000 21597.000 9900000190.000    33.000   \n",
       "\n",
       "       bathrooms  sqft_living    sqft_lot    floors  waterfront  ...  \\\n",
       "count  21597.000    21597.000   21597.000 21597.000   19206.000  ...   \n",
       "mean       2.116     2080.322   15099.409     1.494       0.008  ...   \n",
       "std        0.769      918.106   41412.637     0.540       0.087  ...   \n",
       "min        0.500      370.000     520.000     1.000       0.000  ...   \n",
       "25%        1.750     1430.000    5040.000     1.000       0.000  ...   \n",
       "50%        2.250     1910.000    7618.000     1.500       0.000  ...   \n",
       "75%        2.500     2550.000   10685.000     2.000       0.000  ...   \n",
       "max        8.000    13540.000 1651359.000     3.500       1.000  ...   \n",
       "\n",
       "          grade  sqft_above  sqft_basement  yr_built  yr_renovated   zipcode  \\\n",
       "count 21597.000   21597.000      21145.000 21597.000     17749.000 21597.000   \n",
       "mean      7.658    1788.597        291.857  1971.000       836.651 98077.952   \n",
       "std       1.173     827.760        442.491    29.375      4000.111    53.513   \n",
       "min       3.000     370.000          0.000  1900.000         0.000 98001.000   \n",
       "25%       7.000    1190.000          0.000  1951.000         0.000 98033.000   \n",
       "50%       7.000    1560.000          0.000  1975.000         0.000 98065.000   \n",
       "75%       8.000    2210.000        560.000  1997.000         0.000 98118.000   \n",
       "max      13.000    9410.000       4820.000  2015.000     20150.000 98199.000   \n",
       "\n",
       "            lat      long  sqft_living15  sqft_lot15  \n",
       "count 21597.000 21597.000      21597.000   21597.000  \n",
       "mean     47.560  -122.214       1986.620   12758.284  \n",
       "std       0.139     0.141        685.230   27274.442  \n",
       "min      47.156  -122.519        399.000     651.000  \n",
       "25%      47.471  -122.328       1490.000    5100.000  \n",
       "50%      47.572  -122.231       1840.000    7620.000  \n",
       "75%      47.678  -122.125       2360.000   10083.000  \n",
       "max      47.778  -121.315       6210.000  871200.000  \n",
       "\n",
       "[8 rows x 22 columns]"
      ]
     },
     "execution_count": 349,
     "metadata": {},
     "output_type": "execute_result"
    }
   ],
   "source": [
    "df.describe()"
   ]
  },
  {
   "attachments": {},
   "cell_type": "markdown",
   "metadata": {},
   "source": [
    "# duplicates"
   ]
  },
  {
   "cell_type": "code",
   "execution_count": 350,
   "metadata": {},
   "outputs": [
    {
     "data": {
      "text/plain": [
       "False    21597\n",
       "dtype: int64"
      ]
     },
     "execution_count": 350,
     "metadata": {},
     "output_type": "execute_result"
    }
   ],
   "source": [
    "df.duplicated().value_counts()"
   ]
  },
  {
   "attachments": {},
   "cell_type": "markdown",
   "metadata": {},
   "source": [
    "# clean data"
   ]
  },
  {
   "cell_type": "code",
   "execution_count": 351,
   "metadata": {},
   "outputs": [],
   "source": [
    "df.drop([\"id\",\"id.1\"], axis=1, inplace=True)\n",
    "\n",
    "df['date'] = pd.to_datetime(df['date'], format='%Y-%m-%d')\n",
    "\n",
    "df['price'] = df['price'].round(0).astype(int)\n",
    "\n",
    "df['bedrooms'] = df['bedrooms'].round(0).astype(int)\n",
    "\n",
    "df['bathrooms'] = df['bathrooms'].round(0).astype(int)\n",
    "\n",
    "df['floors'] = df['floors'].round(0).astype(int)\n",
    "\n",
    "df['waterfront'] = df['waterfront'].map(lambda x: round(x) if pd.notnull(x) else np.nan).astype('Int64')\n",
    "\n",
    "df['view'] = df['view'].map(lambda x: round(x) if pd.notnull(x) else np.nan).astype('Int64')\n",
    "\n",
    "df['yr_renovated'] = df['yr_renovated'].apply(lambda x: int(x/10) if pd.notnull(x) else 9999).astype('Int64')\n"
   ]
  },
  {
   "cell_type": "code",
   "execution_count": 352,
   "metadata": {},
   "outputs": [
    {
     "data": {
      "text/html": [
       "<div>\n",
       "<style scoped>\n",
       "    .dataframe tbody tr th:only-of-type {\n",
       "        vertical-align: middle;\n",
       "    }\n",
       "\n",
       "    .dataframe tbody tr th {\n",
       "        vertical-align: top;\n",
       "    }\n",
       "\n",
       "    .dataframe thead th {\n",
       "        text-align: right;\n",
       "    }\n",
       "</style>\n",
       "<table border=\"1\" class=\"dataframe\">\n",
       "  <thead>\n",
       "    <tr style=\"text-align: right;\">\n",
       "      <th></th>\n",
       "      <th>date</th>\n",
       "      <th>price</th>\n",
       "      <th>house_id</th>\n",
       "      <th>bedrooms</th>\n",
       "      <th>bathrooms</th>\n",
       "      <th>sqft_living</th>\n",
       "      <th>sqft_lot</th>\n",
       "      <th>floors</th>\n",
       "      <th>waterfront</th>\n",
       "      <th>view</th>\n",
       "      <th>...</th>\n",
       "      <th>grade</th>\n",
       "      <th>sqft_above</th>\n",
       "      <th>sqft_basement</th>\n",
       "      <th>yr_built</th>\n",
       "      <th>yr_renovated</th>\n",
       "      <th>zipcode</th>\n",
       "      <th>lat</th>\n",
       "      <th>long</th>\n",
       "      <th>sqft_living15</th>\n",
       "      <th>sqft_lot15</th>\n",
       "    </tr>\n",
       "  </thead>\n",
       "  <tbody>\n",
       "    <tr>\n",
       "      <th>0</th>\n",
       "      <td>2014-10-13</td>\n",
       "      <td>221900</td>\n",
       "      <td>7129300520</td>\n",
       "      <td>3</td>\n",
       "      <td>1</td>\n",
       "      <td>1180.000</td>\n",
       "      <td>5650.000</td>\n",
       "      <td>1</td>\n",
       "      <td>&lt;NA&gt;</td>\n",
       "      <td>0</td>\n",
       "      <td>...</td>\n",
       "      <td>7</td>\n",
       "      <td>1180.000</td>\n",
       "      <td>0.000</td>\n",
       "      <td>1955</td>\n",
       "      <td>0</td>\n",
       "      <td>98178</td>\n",
       "      <td>47.511</td>\n",
       "      <td>-122.257</td>\n",
       "      <td>1340.000</td>\n",
       "      <td>5650.000</td>\n",
       "    </tr>\n",
       "    <tr>\n",
       "      <th>1</th>\n",
       "      <td>2014-12-09</td>\n",
       "      <td>538000</td>\n",
       "      <td>6414100192</td>\n",
       "      <td>3</td>\n",
       "      <td>2</td>\n",
       "      <td>2570.000</td>\n",
       "      <td>7242.000</td>\n",
       "      <td>2</td>\n",
       "      <td>0</td>\n",
       "      <td>0</td>\n",
       "      <td>...</td>\n",
       "      <td>7</td>\n",
       "      <td>2170.000</td>\n",
       "      <td>400.000</td>\n",
       "      <td>1951</td>\n",
       "      <td>1991</td>\n",
       "      <td>98125</td>\n",
       "      <td>47.721</td>\n",
       "      <td>-122.319</td>\n",
       "      <td>1690.000</td>\n",
       "      <td>7639.000</td>\n",
       "    </tr>\n",
       "    <tr>\n",
       "      <th>2</th>\n",
       "      <td>2015-02-25</td>\n",
       "      <td>180000</td>\n",
       "      <td>5631500400</td>\n",
       "      <td>2</td>\n",
       "      <td>1</td>\n",
       "      <td>770.000</td>\n",
       "      <td>10000.000</td>\n",
       "      <td>1</td>\n",
       "      <td>0</td>\n",
       "      <td>0</td>\n",
       "      <td>...</td>\n",
       "      <td>6</td>\n",
       "      <td>770.000</td>\n",
       "      <td>0.000</td>\n",
       "      <td>1933</td>\n",
       "      <td>9999</td>\n",
       "      <td>98028</td>\n",
       "      <td>47.738</td>\n",
       "      <td>-122.233</td>\n",
       "      <td>2720.000</td>\n",
       "      <td>8062.000</td>\n",
       "    </tr>\n",
       "    <tr>\n",
       "      <th>3</th>\n",
       "      <td>2014-12-09</td>\n",
       "      <td>604000</td>\n",
       "      <td>2487200875</td>\n",
       "      <td>4</td>\n",
       "      <td>3</td>\n",
       "      <td>1960.000</td>\n",
       "      <td>5000.000</td>\n",
       "      <td>1</td>\n",
       "      <td>0</td>\n",
       "      <td>0</td>\n",
       "      <td>...</td>\n",
       "      <td>7</td>\n",
       "      <td>1050.000</td>\n",
       "      <td>910.000</td>\n",
       "      <td>1965</td>\n",
       "      <td>0</td>\n",
       "      <td>98136</td>\n",
       "      <td>47.521</td>\n",
       "      <td>-122.393</td>\n",
       "      <td>1360.000</td>\n",
       "      <td>5000.000</td>\n",
       "    </tr>\n",
       "    <tr>\n",
       "      <th>4</th>\n",
       "      <td>2015-02-18</td>\n",
       "      <td>510000</td>\n",
       "      <td>1954400510</td>\n",
       "      <td>3</td>\n",
       "      <td>2</td>\n",
       "      <td>1680.000</td>\n",
       "      <td>8080.000</td>\n",
       "      <td>1</td>\n",
       "      <td>0</td>\n",
       "      <td>0</td>\n",
       "      <td>...</td>\n",
       "      <td>8</td>\n",
       "      <td>1680.000</td>\n",
       "      <td>0.000</td>\n",
       "      <td>1987</td>\n",
       "      <td>0</td>\n",
       "      <td>98074</td>\n",
       "      <td>47.617</td>\n",
       "      <td>-122.045</td>\n",
       "      <td>1800.000</td>\n",
       "      <td>7503.000</td>\n",
       "    </tr>\n",
       "    <tr>\n",
       "      <th>5</th>\n",
       "      <td>2014-05-12</td>\n",
       "      <td>1230000</td>\n",
       "      <td>7237550310</td>\n",
       "      <td>4</td>\n",
       "      <td>4</td>\n",
       "      <td>5420.000</td>\n",
       "      <td>101930.000</td>\n",
       "      <td>1</td>\n",
       "      <td>0</td>\n",
       "      <td>0</td>\n",
       "      <td>...</td>\n",
       "      <td>11</td>\n",
       "      <td>3890.000</td>\n",
       "      <td>1530.000</td>\n",
       "      <td>2001</td>\n",
       "      <td>0</td>\n",
       "      <td>98053</td>\n",
       "      <td>47.656</td>\n",
       "      <td>-122.005</td>\n",
       "      <td>4760.000</td>\n",
       "      <td>101930.000</td>\n",
       "    </tr>\n",
       "    <tr>\n",
       "      <th>6</th>\n",
       "      <td>2014-06-27</td>\n",
       "      <td>257500</td>\n",
       "      <td>1321400060</td>\n",
       "      <td>3</td>\n",
       "      <td>2</td>\n",
       "      <td>1715.000</td>\n",
       "      <td>6819.000</td>\n",
       "      <td>2</td>\n",
       "      <td>0</td>\n",
       "      <td>0</td>\n",
       "      <td>...</td>\n",
       "      <td>7</td>\n",
       "      <td>1715.000</td>\n",
       "      <td>NaN</td>\n",
       "      <td>1995</td>\n",
       "      <td>0</td>\n",
       "      <td>98003</td>\n",
       "      <td>47.310</td>\n",
       "      <td>-122.327</td>\n",
       "      <td>2238.000</td>\n",
       "      <td>6819.000</td>\n",
       "    </tr>\n",
       "    <tr>\n",
       "      <th>7</th>\n",
       "      <td>2015-01-15</td>\n",
       "      <td>291850</td>\n",
       "      <td>2008000270</td>\n",
       "      <td>3</td>\n",
       "      <td>2</td>\n",
       "      <td>1060.000</td>\n",
       "      <td>9711.000</td>\n",
       "      <td>1</td>\n",
       "      <td>0</td>\n",
       "      <td>&lt;NA&gt;</td>\n",
       "      <td>...</td>\n",
       "      <td>7</td>\n",
       "      <td>1060.000</td>\n",
       "      <td>0.000</td>\n",
       "      <td>1963</td>\n",
       "      <td>0</td>\n",
       "      <td>98198</td>\n",
       "      <td>47.410</td>\n",
       "      <td>-122.315</td>\n",
       "      <td>1650.000</td>\n",
       "      <td>9711.000</td>\n",
       "    </tr>\n",
       "    <tr>\n",
       "      <th>8</th>\n",
       "      <td>2015-04-15</td>\n",
       "      <td>229500</td>\n",
       "      <td>2414600126</td>\n",
       "      <td>3</td>\n",
       "      <td>1</td>\n",
       "      <td>1780.000</td>\n",
       "      <td>7470.000</td>\n",
       "      <td>1</td>\n",
       "      <td>0</td>\n",
       "      <td>0</td>\n",
       "      <td>...</td>\n",
       "      <td>7</td>\n",
       "      <td>1050.000</td>\n",
       "      <td>730.000</td>\n",
       "      <td>1960</td>\n",
       "      <td>0</td>\n",
       "      <td>98146</td>\n",
       "      <td>47.512</td>\n",
       "      <td>-122.337</td>\n",
       "      <td>1780.000</td>\n",
       "      <td>8113.000</td>\n",
       "    </tr>\n",
       "    <tr>\n",
       "      <th>9</th>\n",
       "      <td>2015-03-12</td>\n",
       "      <td>323000</td>\n",
       "      <td>3793500160</td>\n",
       "      <td>3</td>\n",
       "      <td>2</td>\n",
       "      <td>1890.000</td>\n",
       "      <td>6560.000</td>\n",
       "      <td>2</td>\n",
       "      <td>0</td>\n",
       "      <td>0</td>\n",
       "      <td>...</td>\n",
       "      <td>7</td>\n",
       "      <td>1890.000</td>\n",
       "      <td>0.000</td>\n",
       "      <td>2003</td>\n",
       "      <td>0</td>\n",
       "      <td>98038</td>\n",
       "      <td>47.368</td>\n",
       "      <td>-122.031</td>\n",
       "      <td>2390.000</td>\n",
       "      <td>7570.000</td>\n",
       "    </tr>\n",
       "  </tbody>\n",
       "</table>\n",
       "<p>10 rows × 21 columns</p>\n",
       "</div>"
      ],
      "text/plain": [
       "        date    price    house_id  bedrooms  bathrooms  sqft_living  \\\n",
       "0 2014-10-13   221900  7129300520         3          1     1180.000   \n",
       "1 2014-12-09   538000  6414100192         3          2     2570.000   \n",
       "2 2015-02-25   180000  5631500400         2          1      770.000   \n",
       "3 2014-12-09   604000  2487200875         4          3     1960.000   \n",
       "4 2015-02-18   510000  1954400510         3          2     1680.000   \n",
       "5 2014-05-12  1230000  7237550310         4          4     5420.000   \n",
       "6 2014-06-27   257500  1321400060         3          2     1715.000   \n",
       "7 2015-01-15   291850  2008000270         3          2     1060.000   \n",
       "8 2015-04-15   229500  2414600126         3          1     1780.000   \n",
       "9 2015-03-12   323000  3793500160         3          2     1890.000   \n",
       "\n",
       "    sqft_lot  floors  waterfront  view  ...  grade  sqft_above  sqft_basement  \\\n",
       "0   5650.000       1        <NA>     0  ...      7    1180.000          0.000   \n",
       "1   7242.000       2           0     0  ...      7    2170.000        400.000   \n",
       "2  10000.000       1           0     0  ...      6     770.000          0.000   \n",
       "3   5000.000       1           0     0  ...      7    1050.000        910.000   \n",
       "4   8080.000       1           0     0  ...      8    1680.000          0.000   \n",
       "5 101930.000       1           0     0  ...     11    3890.000       1530.000   \n",
       "6   6819.000       2           0     0  ...      7    1715.000            NaN   \n",
       "7   9711.000       1           0  <NA>  ...      7    1060.000          0.000   \n",
       "8   7470.000       1           0     0  ...      7    1050.000        730.000   \n",
       "9   6560.000       2           0     0  ...      7    1890.000          0.000   \n",
       "\n",
       "   yr_built  yr_renovated  zipcode    lat     long  sqft_living15  sqft_lot15  \n",
       "0      1955             0    98178 47.511 -122.257       1340.000    5650.000  \n",
       "1      1951          1991    98125 47.721 -122.319       1690.000    7639.000  \n",
       "2      1933          9999    98028 47.738 -122.233       2720.000    8062.000  \n",
       "3      1965             0    98136 47.521 -122.393       1360.000    5000.000  \n",
       "4      1987             0    98074 47.617 -122.045       1800.000    7503.000  \n",
       "5      2001             0    98053 47.656 -122.005       4760.000  101930.000  \n",
       "6      1995             0    98003 47.310 -122.327       2238.000    6819.000  \n",
       "7      1963             0    98198 47.410 -122.315       1650.000    9711.000  \n",
       "8      1960             0    98146 47.512 -122.337       1780.000    8113.000  \n",
       "9      2003             0    98038 47.368 -122.031       2390.000    7570.000  \n",
       "\n",
       "[10 rows x 21 columns]"
      ]
     },
     "execution_count": 352,
     "metadata": {},
     "output_type": "execute_result"
    }
   ],
   "source": [
    "df.head(10)"
   ]
  },
  {
   "attachments": {},
   "cell_type": "markdown",
   "metadata": {},
   "source": [
    "Thomas Hansen |\tBuyer | 5 kids, no money, wants nice (social) neighborhood, Timing?, Location?\n",
    "\n",
    "Assumption:\n",
    "- Thomas comes with a big family. 5 kids + 2 adults, which leads to special requirements that needs to be fulfilled:\n",
    " \n",
    "    a) Increased numbers of bedrooms: <= 6 bedrooms, >= 2 bedrooms \n",
    "    \n",
    "    b) Increased numbers of bathrooms: >= 2 bathrooms\n",
    "    \n",
    "    c) Minimal sqm of living area: spm > 150\n",
    "    \n",
    "    d) (Optional) Lot area should match european average (100-200 sqm per person): 700-1400 sqm\n",
    "\n",
    "- Along with this house specifications Thomas has a low budget, which limits the absolute overall price: max 200000\n",
    "\n",
    "- Furthermore Thomas seeks for a nice, social neighborhood. Since people from the same social class get along best, its advised to\n",
    "look for neighborhood houses that share same requirements like that from Thomas family (many bedrooms, low price etc.)\n",
    "\n",
    "Research Question: \n",
    "\n",
    "1) PRICE: Considering the mentioned house specification in which areas are the house cheapest?\n",
    "\n",
    "2) LOCATION: Considering Thomas low budget where are house located that match the desire for a nice social neighborhood?\n",
    "\n",
    "3) TIMING: Considering Thomas low budget when is the best time to buy houses that match Thomas requirements in terms of price & location?\n",
    "\n",
    "Hypothesis:\n",
    "\n",
    "1) PRICE: If the number of bathrooms and bedrooms as well as the living space and plot area are high, then the price is based on the building age and renovation status.\n",
    "\n",
    "2) LOCATION: Houses with similar features (which act as proxy for similiar family conditions) like price, bedroom counts are clustered. \n",
    "\n",
    "3) TIMING: Perfect time to buy houses cheapest are holiday seasons because amount of potentially buyers are lesser.\n"
   ]
  },
  {
   "attachments": {},
   "cell_type": "markdown",
   "metadata": {},
   "source": [
    "# features"
   ]
  },
  {
   "cell_type": "code",
   "execution_count": 353,
   "metadata": {},
   "outputs": [],
   "source": [
    "df[\"sales_year\"]=df[\"date\"].dt.year\n",
    "\n",
    "df[\"sales_month\"]=df[\"date\"].dt.month\n",
    "\n",
    "df['building_age'] = datetime.datetime.now().year - df['yr_built']\n",
    "\n",
    "df['years_ren_today'] = df['yr_renovated'].apply(lambda x: np.nan if ((x == 0) or (x==9999)) else datetime.datetime.now().year - x).astype('Int64')\n",
    "\n",
    "df['years_ren_built'] = df['yr_renovated'] - df['yr_built']\n",
    "\n",
    "df['years_ren_built'] = df['years_ren_built'].apply(lambda x: np.nan if ((x < 0) or (x>500)) else x).astype('Int64')\n",
    "\n",
    "df['has_basement'] = df['sqft_basement'].apply(lambda x: True if x >= 0 else False)\n",
    "\n",
    "df['sqft_living'] = df['sqft_living'].apply(lambda x: round(x/10.764))\n",
    "\n",
    "df['sqft_lot'] = df['sqft_lot'].apply(lambda x: round(x/10.764))\n",
    "\n",
    "df['sqft_above'] = df['sqft_above'].apply(lambda x: round(x/10.764))\n",
    "\n",
    "df['sqft_basement'] = df['sqft_basement'].apply(lambda x: np.nan if pd.isnull(x) else round(x/10.764)).astype('Int64')\n",
    "\n",
    "df['sqft_living15'] = df['sqft_living15'].apply(lambda x: np.nan if pd.isnull(x) else round(x/10.764)).astype('Int64')\n",
    "\n",
    "df['sqft_lot15'] = df['sqft_lot15'].apply(lambda x: np.nan if pd.isnull(x) else round(x/10.764)).astype('Int64')\n",
    "\n",
    "#calulate price per sqm\n",
    "df['price_sqm'] = (df['price'] / df['sqft_living']).round(0).astype(int)\n",
    "\n",
    "df['sqm_living_cat'] = pd.cut(df['sqft_living'], bins=[0, 100, 200, 300, 400, 500, 600, 700, 800, 900, 1000], labels=['0-100', '100-200', '200-300', '300-400', '400-500', '500-600', '600-700', '700-800', '800-900', '900-1000'])\n",
    "\n",
    "# create a new colums that cuts price into 10 bins\n",
    "df['price_cat'] = pd.cut(df['price'], bins=[0, 100000, 200000, 300000, 400000, 500000, 600000, 700000, 800000, 900000, 1000000], labels=['0-100k', '100k-200k', '200k-300k', '300k-400k', '400k-500k', '500k-600k', '600k-700k', '700k-800k', '800k-900k', '900k-1M'])\n",
    "\n",
    "# create new column that maps sales month to respective month name\n",
    "df['sales_month_name'] = df['sales_month'].map({1: 'Jan', 2: 'Feb', 3: 'Mar', 4: 'Apr', 5: 'May', 6: 'Jun',\n",
    "                                                7: 'Jul', 8: 'Aug', 9: 'Sep', 10: 'Oct', 11: 'Nov', 12: 'Dec'})\n",
    "\n",
    "# rename columns\n",
    "df.rename(columns={'sqft_living': 'sqm_living', 'sqft_lot': 'sqm_lot', 'sqft_above': 'sqm_above', 'sqft_basement': 'sqm_basement', 'sqft_living15': 'sqm_living15', 'sqft_lot15': 'sqm_lot15'}, inplace=True)"
   ]
  },
  {
   "cell_type": "code",
   "execution_count": 354,
   "metadata": {},
   "outputs": [
    {
     "data": {
      "text/html": [
       "<div>\n",
       "<style scoped>\n",
       "    .dataframe tbody tr th:only-of-type {\n",
       "        vertical-align: middle;\n",
       "    }\n",
       "\n",
       "    .dataframe tbody tr th {\n",
       "        vertical-align: top;\n",
       "    }\n",
       "\n",
       "    .dataframe thead th {\n",
       "        text-align: right;\n",
       "    }\n",
       "</style>\n",
       "<table border=\"1\" class=\"dataframe\">\n",
       "  <thead>\n",
       "    <tr style=\"text-align: right;\">\n",
       "      <th></th>\n",
       "      <th>date</th>\n",
       "      <th>price</th>\n",
       "      <th>house_id</th>\n",
       "      <th>bedrooms</th>\n",
       "      <th>bathrooms</th>\n",
       "      <th>sqm_living</th>\n",
       "      <th>sqm_lot</th>\n",
       "      <th>floors</th>\n",
       "      <th>waterfront</th>\n",
       "      <th>view</th>\n",
       "      <th>...</th>\n",
       "      <th>sales_year</th>\n",
       "      <th>sales_month</th>\n",
       "      <th>building_age</th>\n",
       "      <th>years_ren_today</th>\n",
       "      <th>years_ren_built</th>\n",
       "      <th>has_basement</th>\n",
       "      <th>price_sqm</th>\n",
       "      <th>sqm_living_cat</th>\n",
       "      <th>price_cat</th>\n",
       "      <th>sales_month_name</th>\n",
       "    </tr>\n",
       "  </thead>\n",
       "  <tbody>\n",
       "    <tr>\n",
       "      <th>0</th>\n",
       "      <td>2014-10-13</td>\n",
       "      <td>221900</td>\n",
       "      <td>7129300520</td>\n",
       "      <td>3</td>\n",
       "      <td>1</td>\n",
       "      <td>110</td>\n",
       "      <td>525</td>\n",
       "      <td>1</td>\n",
       "      <td>&lt;NA&gt;</td>\n",
       "      <td>0</td>\n",
       "      <td>...</td>\n",
       "      <td>2014</td>\n",
       "      <td>10</td>\n",
       "      <td>68</td>\n",
       "      <td>&lt;NA&gt;</td>\n",
       "      <td>&lt;NA&gt;</td>\n",
       "      <td>True</td>\n",
       "      <td>2017</td>\n",
       "      <td>100-200</td>\n",
       "      <td>200k-300k</td>\n",
       "      <td>Oct</td>\n",
       "    </tr>\n",
       "    <tr>\n",
       "      <th>1</th>\n",
       "      <td>2014-12-09</td>\n",
       "      <td>538000</td>\n",
       "      <td>6414100192</td>\n",
       "      <td>3</td>\n",
       "      <td>2</td>\n",
       "      <td>239</td>\n",
       "      <td>673</td>\n",
       "      <td>2</td>\n",
       "      <td>0</td>\n",
       "      <td>0</td>\n",
       "      <td>...</td>\n",
       "      <td>2014</td>\n",
       "      <td>12</td>\n",
       "      <td>72</td>\n",
       "      <td>32</td>\n",
       "      <td>40</td>\n",
       "      <td>True</td>\n",
       "      <td>2251</td>\n",
       "      <td>200-300</td>\n",
       "      <td>500k-600k</td>\n",
       "      <td>Dec</td>\n",
       "    </tr>\n",
       "    <tr>\n",
       "      <th>2</th>\n",
       "      <td>2015-02-25</td>\n",
       "      <td>180000</td>\n",
       "      <td>5631500400</td>\n",
       "      <td>2</td>\n",
       "      <td>1</td>\n",
       "      <td>72</td>\n",
       "      <td>929</td>\n",
       "      <td>1</td>\n",
       "      <td>0</td>\n",
       "      <td>0</td>\n",
       "      <td>...</td>\n",
       "      <td>2015</td>\n",
       "      <td>2</td>\n",
       "      <td>90</td>\n",
       "      <td>&lt;NA&gt;</td>\n",
       "      <td>&lt;NA&gt;</td>\n",
       "      <td>True</td>\n",
       "      <td>2500</td>\n",
       "      <td>0-100</td>\n",
       "      <td>100k-200k</td>\n",
       "      <td>Feb</td>\n",
       "    </tr>\n",
       "    <tr>\n",
       "      <th>3</th>\n",
       "      <td>2014-12-09</td>\n",
       "      <td>604000</td>\n",
       "      <td>2487200875</td>\n",
       "      <td>4</td>\n",
       "      <td>3</td>\n",
       "      <td>182</td>\n",
       "      <td>465</td>\n",
       "      <td>1</td>\n",
       "      <td>0</td>\n",
       "      <td>0</td>\n",
       "      <td>...</td>\n",
       "      <td>2014</td>\n",
       "      <td>12</td>\n",
       "      <td>58</td>\n",
       "      <td>&lt;NA&gt;</td>\n",
       "      <td>&lt;NA&gt;</td>\n",
       "      <td>True</td>\n",
       "      <td>3319</td>\n",
       "      <td>100-200</td>\n",
       "      <td>600k-700k</td>\n",
       "      <td>Dec</td>\n",
       "    </tr>\n",
       "    <tr>\n",
       "      <th>4</th>\n",
       "      <td>2015-02-18</td>\n",
       "      <td>510000</td>\n",
       "      <td>1954400510</td>\n",
       "      <td>3</td>\n",
       "      <td>2</td>\n",
       "      <td>156</td>\n",
       "      <td>751</td>\n",
       "      <td>1</td>\n",
       "      <td>0</td>\n",
       "      <td>0</td>\n",
       "      <td>...</td>\n",
       "      <td>2015</td>\n",
       "      <td>2</td>\n",
       "      <td>36</td>\n",
       "      <td>&lt;NA&gt;</td>\n",
       "      <td>&lt;NA&gt;</td>\n",
       "      <td>True</td>\n",
       "      <td>3269</td>\n",
       "      <td>100-200</td>\n",
       "      <td>500k-600k</td>\n",
       "      <td>Feb</td>\n",
       "    </tr>\n",
       "  </tbody>\n",
       "</table>\n",
       "<p>5 rows × 31 columns</p>\n",
       "</div>"
      ],
      "text/plain": [
       "        date   price    house_id  bedrooms  bathrooms  sqm_living  sqm_lot  \\\n",
       "0 2014-10-13  221900  7129300520         3          1         110      525   \n",
       "1 2014-12-09  538000  6414100192         3          2         239      673   \n",
       "2 2015-02-25  180000  5631500400         2          1          72      929   \n",
       "3 2014-12-09  604000  2487200875         4          3         182      465   \n",
       "4 2015-02-18  510000  1954400510         3          2         156      751   \n",
       "\n",
       "   floors  waterfront  view  ...  sales_year  sales_month  building_age  \\\n",
       "0       1        <NA>     0  ...        2014           10            68   \n",
       "1       2           0     0  ...        2014           12            72   \n",
       "2       1           0     0  ...        2015            2            90   \n",
       "3       1           0     0  ...        2014           12            58   \n",
       "4       1           0     0  ...        2015            2            36   \n",
       "\n",
       "   years_ren_today  years_ren_built  has_basement  price_sqm  sqm_living_cat  \\\n",
       "0             <NA>             <NA>          True       2017         100-200   \n",
       "1               32               40          True       2251         200-300   \n",
       "2             <NA>             <NA>          True       2500           0-100   \n",
       "3             <NA>             <NA>          True       3319         100-200   \n",
       "4             <NA>             <NA>          True       3269         100-200   \n",
       "\n",
       "   price_cat  sales_month_name  \n",
       "0  200k-300k               Oct  \n",
       "1  500k-600k               Dec  \n",
       "2  100k-200k               Feb  \n",
       "3  600k-700k               Dec  \n",
       "4  500k-600k               Feb  \n",
       "\n",
       "[5 rows x 31 columns]"
      ]
     },
     "execution_count": 354,
     "metadata": {},
     "output_type": "execute_result"
    }
   ],
   "source": [
    "df.head(5)"
   ]
  },
  {
   "cell_type": "code",
   "execution_count": 355,
   "metadata": {},
   "outputs": [
    {
     "name": "stdout",
     "output_type": "stream",
     "text": [
      "<class 'pandas.core.frame.DataFrame'>\n",
      "RangeIndex: 21597 entries, 0 to 21596\n",
      "Data columns (total 31 columns):\n",
      " #   Column            Non-Null Count  Dtype         \n",
      "---  ------            --------------  -----         \n",
      " 0   date              21597 non-null  datetime64[ns]\n",
      " 1   price             21597 non-null  int64         \n",
      " 2   house_id          21597 non-null  int64         \n",
      " 3   bedrooms          21597 non-null  int64         \n",
      " 4   bathrooms         21597 non-null  int64         \n",
      " 5   sqm_living        21597 non-null  int64         \n",
      " 6   sqm_lot           21597 non-null  int64         \n",
      " 7   floors            21597 non-null  int64         \n",
      " 8   waterfront        19206 non-null  Int64         \n",
      " 9   view              21534 non-null  Int64         \n",
      " 10  condition         21597 non-null  int64         \n",
      " 11  grade             21597 non-null  int64         \n",
      " 12  sqm_above         21597 non-null  int64         \n",
      " 13  sqm_basement      21145 non-null  Int64         \n",
      " 14  yr_built          21597 non-null  int64         \n",
      " 15  yr_renovated      21597 non-null  Int64         \n",
      " 16  zipcode           21597 non-null  int64         \n",
      " 17  lat               21597 non-null  float64       \n",
      " 18  long              21597 non-null  float64       \n",
      " 19  sqm_living15      21597 non-null  Int64         \n",
      " 20  sqm_lot15         21597 non-null  Int64         \n",
      " 21  sales_year        21597 non-null  int64         \n",
      " 22  sales_month       21597 non-null  int64         \n",
      " 23  building_age      21597 non-null  int64         \n",
      " 24  years_ren_today   744 non-null    Int64         \n",
      " 25  years_ren_built   744 non-null    Int64         \n",
      " 26  has_basement      21597 non-null  bool          \n",
      " 27  price_sqm         21597 non-null  int64         \n",
      " 28  sqm_living_cat    21595 non-null  category      \n",
      " 29  price_cat         20139 non-null  category      \n",
      " 30  sales_month_name  21597 non-null  object        \n",
      "dtypes: Int64(8), bool(1), category(2), datetime64[ns](1), float64(2), int64(16), object(1)\n",
      "memory usage: 4.8+ MB\n"
     ]
    }
   ],
   "source": [
    "df.info()"
   ]
  },
  {
   "attachments": {},
   "cell_type": "markdown",
   "metadata": {},
   "source": [
    "# exploration"
   ]
  },
  {
   "cell_type": "code",
   "execution_count": 356,
   "metadata": {},
   "outputs": [
    {
     "data": {
      "image/png": "[encoded data removed]",
      "text/plain": [
       "<Figure size 1000x2000 with 18 Axes>"
      ]
     },
     "metadata": {},
     "output_type": "display_data"
    }
   ],
   "source": [
    "#with matplotlib create multiple histograms\n",
    "fig, axes = plt.subplots(9, 2, figsize=(10, 20))\n",
    "fig.suptitle('Histograms & Boxploi for all numerical columns', fontsize=10)\n",
    "#add margin between subplots\n",
    "fig.subplots_adjust(hspace=0.5)\n",
    "\n",
    "sns.histplot(ax=axes[0, 0], data=df, x='price', bins=50)\n",
    "sns.boxplot(ax=axes[0, 1], data=df, x='price')\n",
    "\n",
    "sns.histplot(ax=axes[1, 0], data=df, x='sqm_living', bins=50)\n",
    "sns.boxplot(ax=axes[1, 1], data=df, x='sqm_living')\n",
    "\n",
    "sns.histplot(ax=axes[2, 0], data=df, x='view', bins=50)\n",
    "sns.boxplot(ax=axes[2, 1], data=df, x='view')\n",
    "\n",
    "sns.histplot(ax=axes[3, 0], data=df, x='building_age', bins=20)\n",
    "sns.boxplot(ax=axes[3, 1], data=df, x='building_age')\n",
    "\n",
    "sns.histplot(ax=axes[4, 0], data=df, x='sqm_above', bins=50)\n",
    "sns.boxplot(ax=axes[4, 1], data=df, x='sqm_above')\n",
    "\n",
    "sns.histplot(ax=axes[5, 0], data=df, x='sqm_basement', bins=50)\n",
    "sns.boxplot(ax=axes[5, 1], data=df, x='sqm_basement')\n",
    "\n",
    "sns.histplot(ax=axes[6, 0], data=df, x='sqm_living15', bins=50)\n",
    "sns.boxplot(ax=axes[6, 1], data=df, x='sqm_living15')\n",
    "\n",
    "sns.histplot(ax=axes[7, 0], data=df, x='sqm_lot15', bins=50)\n",
    "sns.boxplot(ax=axes[7, 1], data=df, x='sqm_lot15')\n",
    "\n",
    "sns.histplot(ax=axes[8, 0], data=df, x='price_sqm', bins=50)\n",
    "sns.boxplot(ax=axes[8, 1], data=df, x='price_sqm')\n",
    "\n",
    "plt.show()\n",
    "\n"
   ]
  },
  {
   "attachments": {},
   "cell_type": "markdown",
   "metadata": {},
   "source": [
    "# Question 1\n",
    "\n",
    "Considering the mentioned house specification in which areas are the house cheapest?"
   ]
  },
  {
   "attachments": {},
   "cell_type": "markdown",
   "metadata": {},
   "source": [
    "Question 1 (PRICE): \n",
    "Considering the mentioned house specification in which areas are the house cheapest?\n",
    "\n",
    "    a) Increased numbers of bedrooms: <= 6 bedrooms, >= 2 bedrooms \n",
    "    \n",
    "    b) Increased numbers of bathrooms: >= 2 bathrooms\n",
    "    \n",
    "    c) Minimal sqm of living area: spm > 150\n",
    "    \n",
    "    d) (Optional) Lot area should match european average (100-200 sqm per person): 700-1400 sqm\n",
    "\n",
    "Hypothesis: If the number of bathrooms and bedrooms as well as the living space and plot area are high, \n",
    "then the price is based on the building age and renovation status."
   ]
  },
  {
   "cell_type": "code",
   "execution_count": 357,
   "metadata": {},
   "outputs": [
    {
     "data": {
      "text/html": [
       "<div>\n",
       "<style scoped>\n",
       "    .dataframe tbody tr th:only-of-type {\n",
       "        vertical-align: middle;\n",
       "    }\n",
       "\n",
       "    .dataframe tbody tr th {\n",
       "        vertical-align: top;\n",
       "    }\n",
       "\n",
       "    .dataframe thead th {\n",
       "        text-align: right;\n",
       "    }\n",
       "</style>\n",
       "<table border=\"1\" class=\"dataframe\">\n",
       "  <thead>\n",
       "    <tr style=\"text-align: right;\">\n",
       "      <th></th>\n",
       "      <th>price</th>\n",
       "      <th>price_cat</th>\n",
       "      <th>price_sqm</th>\n",
       "      <th>sqm_living</th>\n",
       "      <th>sqm_living_cat</th>\n",
       "      <th>sqm_lot</th>\n",
       "      <th>bedrooms</th>\n",
       "      <th>bathrooms</th>\n",
       "      <th>lat</th>\n",
       "      <th>long</th>\n",
       "      <th>sales_month</th>\n",
       "      <th>sales_month_name</th>\n",
       "    </tr>\n",
       "  </thead>\n",
       "  <tbody>\n",
       "    <tr>\n",
       "      <th>0</th>\n",
       "      <td>221900</td>\n",
       "      <td>200k-300k</td>\n",
       "      <td>2017</td>\n",
       "      <td>110</td>\n",
       "      <td>100-200</td>\n",
       "      <td>525</td>\n",
       "      <td>3</td>\n",
       "      <td>1</td>\n",
       "      <td>47.511</td>\n",
       "      <td>-122.257</td>\n",
       "      <td>10</td>\n",
       "      <td>Oct</td>\n",
       "    </tr>\n",
       "    <tr>\n",
       "      <th>1</th>\n",
       "      <td>538000</td>\n",
       "      <td>500k-600k</td>\n",
       "      <td>2251</td>\n",
       "      <td>239</td>\n",
       "      <td>200-300</td>\n",
       "      <td>673</td>\n",
       "      <td>3</td>\n",
       "      <td>2</td>\n",
       "      <td>47.721</td>\n",
       "      <td>-122.319</td>\n",
       "      <td>12</td>\n",
       "      <td>Dec</td>\n",
       "    </tr>\n",
       "    <tr>\n",
       "      <th>2</th>\n",
       "      <td>180000</td>\n",
       "      <td>100k-200k</td>\n",
       "      <td>2500</td>\n",
       "      <td>72</td>\n",
       "      <td>0-100</td>\n",
       "      <td>929</td>\n",
       "      <td>2</td>\n",
       "      <td>1</td>\n",
       "      <td>47.738</td>\n",
       "      <td>-122.233</td>\n",
       "      <td>2</td>\n",
       "      <td>Feb</td>\n",
       "    </tr>\n",
       "    <tr>\n",
       "      <th>3</th>\n",
       "      <td>604000</td>\n",
       "      <td>600k-700k</td>\n",
       "      <td>3319</td>\n",
       "      <td>182</td>\n",
       "      <td>100-200</td>\n",
       "      <td>465</td>\n",
       "      <td>4</td>\n",
       "      <td>3</td>\n",
       "      <td>47.521</td>\n",
       "      <td>-122.393</td>\n",
       "      <td>12</td>\n",
       "      <td>Dec</td>\n",
       "    </tr>\n",
       "    <tr>\n",
       "      <th>4</th>\n",
       "      <td>510000</td>\n",
       "      <td>500k-600k</td>\n",
       "      <td>3269</td>\n",
       "      <td>156</td>\n",
       "      <td>100-200</td>\n",
       "      <td>751</td>\n",
       "      <td>3</td>\n",
       "      <td>2</td>\n",
       "      <td>47.617</td>\n",
       "      <td>-122.045</td>\n",
       "      <td>2</td>\n",
       "      <td>Feb</td>\n",
       "    </tr>\n",
       "  </tbody>\n",
       "</table>\n",
       "</div>"
      ],
      "text/plain": [
       "    price  price_cat  price_sqm  sqm_living sqm_living_cat  sqm_lot  bedrooms  \\\n",
       "0  221900  200k-300k       2017         110        100-200      525         3   \n",
       "1  538000  500k-600k       2251         239        200-300      673         3   \n",
       "2  180000  100k-200k       2500          72          0-100      929         2   \n",
       "3  604000  600k-700k       3319         182        100-200      465         4   \n",
       "4  510000  500k-600k       3269         156        100-200      751         3   \n",
       "\n",
       "   bathrooms    lat     long  sales_month sales_month_name  \n",
       "0          1 47.511 -122.257           10              Oct  \n",
       "1          2 47.721 -122.319           12              Dec  \n",
       "2          1 47.738 -122.233            2              Feb  \n",
       "3          3 47.521 -122.393           12              Dec  \n",
       "4          2 47.617 -122.045            2              Feb  "
      ]
     },
     "execution_count": 357,
     "metadata": {},
     "output_type": "execute_result"
    }
   ],
   "source": [
    "df_op = df[['price','price_cat','price_sqm','sqm_living', 'sqm_living_cat', 'sqm_lot',  'bedrooms', 'bathrooms','lat', 'long', 'sales_month','sales_month_name']]\n",
    "df_op.head()"
   ]
  },
  {
   "cell_type": "code",
   "execution_count": 402,
   "metadata": {},
   "outputs": [
    {
     "data": {
      "image/png": "[encoded data removed]",
      "text/plain": [
       "<Figure size 800x1200 with 6 Axes>"
      ]
     },
     "metadata": {},
     "output_type": "display_data"
    }
   ],
   "source": [
    "df_op_final = df_op[(df_op['bedrooms'] >= 2) & (df_op['bedrooms'] <= 6) & \n",
    "                    (df_op['bathrooms'] >= 2) & (df_op['bathrooms'] <= 3) & \n",
    "                    (df_op['sqm_living'] >= 150) & (df_op['sqm_living'] <= 200) & \n",
    "                    (df_op['sqm_lot'] >= 700) & (df_op['sqm_lot'] <= 1400) & \n",
    "                    (df_op['price'] >= 0) & (df_op['price'] <= 300000)\n",
    "                    ]\n",
    "\n",
    "df_op_final.sort_values('price')\n",
    "\n",
    "\n",
    "g = sns.FacetGrid(df_op_final, col='bathrooms', row='bedrooms', height=4, aspect=1)\n",
    "\n",
    "g.map_dataframe(sns.scatterplot, x='sqm_living', y='price', hue='price', size='sqm_lot')\n",
    "\n",
    "g.map(plt.grid, linestyle='--', color='gray')\n",
    "\n",
    "g.set_axis_labels('sqm_living', 'price')\n",
    "\n",
    "#g.fig.suptitle('Price vs Price per sqm for bedrooms, bathrooms, sqm_living_cat', fontsize=10)\n",
    "\n",
    "plt.show()"
   ]
  },
  {
   "cell_type": "code",
   "execution_count": 359,
   "metadata": {},
   "outputs": [
    {
     "data": {
      "text/html": [
       "<div>\n",
       "<style scoped>\n",
       "    .dataframe tbody tr th:only-of-type {\n",
       "        vertical-align: middle;\n",
       "    }\n",
       "\n",
       "    .dataframe tbody tr th {\n",
       "        vertical-align: top;\n",
       "    }\n",
       "\n",
       "    .dataframe thead th {\n",
       "        text-align: right;\n",
       "    }\n",
       "</style>\n",
       "<table border=\"1\" class=\"dataframe\">\n",
       "  <thead>\n",
       "    <tr style=\"text-align: right;\">\n",
       "      <th></th>\n",
       "      <th>price</th>\n",
       "      <th>price_cat</th>\n",
       "      <th>price_sqm</th>\n",
       "      <th>sqm_living</th>\n",
       "      <th>sqm_living_cat</th>\n",
       "      <th>sqm_lot</th>\n",
       "      <th>bedrooms</th>\n",
       "      <th>bathrooms</th>\n",
       "      <th>lat</th>\n",
       "      <th>long</th>\n",
       "      <th>sales_month</th>\n",
       "      <th>sales_month_name</th>\n",
       "    </tr>\n",
       "  </thead>\n",
       "  <tbody>\n",
       "    <tr>\n",
       "      <th>11745</th>\n",
       "      <td>160000</td>\n",
       "      <td>100k-200k</td>\n",
       "      <td>958</td>\n",
       "      <td>167</td>\n",
       "      <td>100-200</td>\n",
       "      <td>1368</td>\n",
       "      <td>4</td>\n",
       "      <td>2</td>\n",
       "      <td>47.487</td>\n",
       "      <td>-122.223</td>\n",
       "      <td>2</td>\n",
       "      <td>Feb</td>\n",
       "    </tr>\n",
       "    <tr>\n",
       "      <th>13170</th>\n",
       "      <td>161000</td>\n",
       "      <td>100k-200k</td>\n",
       "      <td>1019</td>\n",
       "      <td>158</td>\n",
       "      <td>100-200</td>\n",
       "      <td>747</td>\n",
       "      <td>4</td>\n",
       "      <td>2</td>\n",
       "      <td>47.476</td>\n",
       "      <td>-122.288</td>\n",
       "      <td>8</td>\n",
       "      <td>Aug</td>\n",
       "    </tr>\n",
       "    <tr>\n",
       "      <th>14587</th>\n",
       "      <td>194000</td>\n",
       "      <td>100k-200k</td>\n",
       "      <td>1183</td>\n",
       "      <td>164</td>\n",
       "      <td>100-200</td>\n",
       "      <td>715</td>\n",
       "      <td>4</td>\n",
       "      <td>2</td>\n",
       "      <td>47.330</td>\n",
       "      <td>-122.318</td>\n",
       "      <td>3</td>\n",
       "      <td>Mar</td>\n",
       "    </tr>\n",
       "    <tr>\n",
       "      <th>13906</th>\n",
       "      <td>197000</td>\n",
       "      <td>100k-200k</td>\n",
       "      <td>1187</td>\n",
       "      <td>166</td>\n",
       "      <td>100-200</td>\n",
       "      <td>1226</td>\n",
       "      <td>4</td>\n",
       "      <td>2</td>\n",
       "      <td>47.467</td>\n",
       "      <td>-122.185</td>\n",
       "      <td>3</td>\n",
       "      <td>Mar</td>\n",
       "    </tr>\n",
       "    <tr>\n",
       "      <th>10904</th>\n",
       "      <td>199500</td>\n",
       "      <td>100k-200k</td>\n",
       "      <td>1224</td>\n",
       "      <td>163</td>\n",
       "      <td>100-200</td>\n",
       "      <td>754</td>\n",
       "      <td>4</td>\n",
       "      <td>2</td>\n",
       "      <td>47.510</td>\n",
       "      <td>-122.181</td>\n",
       "      <td>9</td>\n",
       "      <td>Sep</td>\n",
       "    </tr>\n",
       "    <tr>\n",
       "      <th>...</th>\n",
       "      <td>...</td>\n",
       "      <td>...</td>\n",
       "      <td>...</td>\n",
       "      <td>...</td>\n",
       "      <td>...</td>\n",
       "      <td>...</td>\n",
       "      <td>...</td>\n",
       "      <td>...</td>\n",
       "      <td>...</td>\n",
       "      <td>...</td>\n",
       "      <td>...</td>\n",
       "      <td>...</td>\n",
       "    </tr>\n",
       "    <tr>\n",
       "      <th>17118</th>\n",
       "      <td>294999</td>\n",
       "      <td>200k-300k</td>\n",
       "      <td>1916</td>\n",
       "      <td>154</td>\n",
       "      <td>100-200</td>\n",
       "      <td>907</td>\n",
       "      <td>4</td>\n",
       "      <td>2</td>\n",
       "      <td>47.364</td>\n",
       "      <td>-122.188</td>\n",
       "      <td>6</td>\n",
       "      <td>Jun</td>\n",
       "    </tr>\n",
       "    <tr>\n",
       "      <th>18950</th>\n",
       "      <td>295000</td>\n",
       "      <td>200k-300k</td>\n",
       "      <td>1855</td>\n",
       "      <td>159</td>\n",
       "      <td>100-200</td>\n",
       "      <td>819</td>\n",
       "      <td>4</td>\n",
       "      <td>2</td>\n",
       "      <td>47.395</td>\n",
       "      <td>-122.174</td>\n",
       "      <td>10</td>\n",
       "      <td>Oct</td>\n",
       "    </tr>\n",
       "    <tr>\n",
       "      <th>1551</th>\n",
       "      <td>299000</td>\n",
       "      <td>200k-300k</td>\n",
       "      <td>1769</td>\n",
       "      <td>169</td>\n",
       "      <td>100-200</td>\n",
       "      <td>704</td>\n",
       "      <td>4</td>\n",
       "      <td>2</td>\n",
       "      <td>47.434</td>\n",
       "      <td>-122.167</td>\n",
       "      <td>11</td>\n",
       "      <td>Nov</td>\n",
       "    </tr>\n",
       "    <tr>\n",
       "      <th>7948</th>\n",
       "      <td>299950</td>\n",
       "      <td>200k-300k</td>\n",
       "      <td>1785</td>\n",
       "      <td>168</td>\n",
       "      <td>100-200</td>\n",
       "      <td>706</td>\n",
       "      <td>4</td>\n",
       "      <td>2</td>\n",
       "      <td>47.286</td>\n",
       "      <td>-122.358</td>\n",
       "      <td>1</td>\n",
       "      <td>Jan</td>\n",
       "    </tr>\n",
       "    <tr>\n",
       "      <th>9110</th>\n",
       "      <td>300000</td>\n",
       "      <td>200k-300k</td>\n",
       "      <td>1852</td>\n",
       "      <td>162</td>\n",
       "      <td>100-200</td>\n",
       "      <td>893</td>\n",
       "      <td>4</td>\n",
       "      <td>2</td>\n",
       "      <td>47.463</td>\n",
       "      <td>-122.125</td>\n",
       "      <td>9</td>\n",
       "      <td>Sep</td>\n",
       "    </tr>\n",
       "  </tbody>\n",
       "</table>\n",
       "<p>71 rows × 12 columns</p>\n",
       "</div>"
      ],
      "text/plain": [
       "        price  price_cat  price_sqm  sqm_living sqm_living_cat  sqm_lot  \\\n",
       "11745  160000  100k-200k        958         167        100-200     1368   \n",
       "13170  161000  100k-200k       1019         158        100-200      747   \n",
       "14587  194000  100k-200k       1183         164        100-200      715   \n",
       "13906  197000  100k-200k       1187         166        100-200     1226   \n",
       "10904  199500  100k-200k       1224         163        100-200      754   \n",
       "...       ...        ...        ...         ...            ...      ...   \n",
       "17118  294999  200k-300k       1916         154        100-200      907   \n",
       "18950  295000  200k-300k       1855         159        100-200      819   \n",
       "1551   299000  200k-300k       1769         169        100-200      704   \n",
       "7948   299950  200k-300k       1785         168        100-200      706   \n",
       "9110   300000  200k-300k       1852         162        100-200      893   \n",
       "\n",
       "       bedrooms  bathrooms    lat     long  sales_month sales_month_name  \n",
       "11745         4          2 47.487 -122.223            2              Feb  \n",
       "13170         4          2 47.476 -122.288            8              Aug  \n",
       "14587         4          2 47.330 -122.318            3              Mar  \n",
       "13906         4          2 47.467 -122.185            3              Mar  \n",
       "10904         4          2 47.510 -122.181            9              Sep  \n",
       "...         ...        ...    ...      ...          ...              ...  \n",
       "17118         4          2 47.364 -122.188            6              Jun  \n",
       "18950         4          2 47.395 -122.174           10              Oct  \n",
       "1551          4          2 47.434 -122.167           11              Nov  \n",
       "7948          4          2 47.286 -122.358            1              Jan  \n",
       "9110          4          2 47.463 -122.125            9              Sep  \n",
       "\n",
       "[71 rows x 12 columns]"
      ]
     },
     "execution_count": 359,
     "metadata": {},
     "output_type": "execute_result"
    }
   ],
   "source": [
    "df_op_q1 = df_op[(df_op['bedrooms'] == 4) & \n",
    "                    (df_op['bathrooms'] == 2) & \n",
    "                    (df_op['sqm_living'] >= 150) & (df_op['sqm_living'] <= 170) & \n",
    "                    (df_op['sqm_lot'] >= 700) & (df_op['sqm_lot'] <= 1400) & \n",
    "                    (df_op['price'] >= 0) & (df_op['price'] <= 300000)\n",
    "                    ]\n",
    "\n",
    "df_op_q1.sort_values('price')"
   ]
  },
  {
   "cell_type": "code",
   "execution_count": 404,
   "metadata": {},
   "outputs": [
    {
     "data": {
      "application/vnd.plotly.v1+json": {
       "config": {
        "plotlyServerURL": "https://plot.ly"
       },
       "data": [
        {
         "hovertemplate": "price=%{marker.color}<br>lat=%{lat}<br>long=%{lon}<extra></extra>",
         "lat": [
          47.2922,
          47.4667,
          47.3923,
          47.5033,
          47.2959,
          47.327,
          47.3947,
          47.3386,
          47.4339,
          47.4982,
          47.3679,
          47.2845,
          47.3646,
          47.2808,
          47.4943,
          47.2917,
          47.3348,
          47.395,
          47.4424,
          47.3808,
          47.3614,
          47.3833,
          47.4104,
          47.4362,
          47.4878,
          47.3281,
          47.3196,
          47.359,
          47.3948,
          47.3611,
          47.2857,
          47.1927,
          47.4538,
          47.3124,
          47.3658,
          47.3406,
          47.463,
          47.3193,
          47.5097,
          47.5097,
          47.4664,
          47.3743,
          47.2126,
          47.4884,
          47.4874,
          47.3965,
          47.2883,
          47.3761,
          47.4758,
          47.4758,
          47.3682,
          47.2704,
          47.3666,
          47.3581,
          47.4672,
          47.4905,
          47.4791,
          47.317,
          47.263,
          47.3299,
          47.2995,
          47.432,
          47.3192,
          47.3258,
          47.3635,
          47.4911,
          47.395,
          47.2202,
          47.3149,
          47.2664,
          47.3748
         ],
         "legendgroup": "",
         "lon": [
          -122.371,
          -122.215,
          -122.311,
          -122.3,
          -122.191,
          -122.361,
          -122.174,
          -122.288,
          -122.167,
          -122.345,
          -122.179,
          -122.25,
          -122.076,
          -122.3,
          -122.331,
          -122.188,
          -122.324,
          -122.176,
          -122.276,
          -122.211,
          -122.119,
          -122.093,
          -122.172,
          -122.187,
          -122.341,
          -122.135,
          -122.399,
          -122.05,
          -122.201,
          -122.047,
          -122.358,
          -122.015,
          -122.288,
          -122.003,
          -122.317,
          -122.284,
          -122.125,
          -122.383,
          -122.181,
          -122.181,
          -121.747,
          -122.295,
          -121.984,
          -122.319,
          -122.223,
          -122.321,
          -122.218,
          -122.32,
          -122.288,
          -122.288,
          -122.179,
          -122.313,
          -122.318,
          -122.288,
          -122.185,
          -122.347,
          -122.347,
          -122.196,
          -122.242,
          -122.318,
          -122.387,
          -122.276,
          -122.385,
          -122.323,
          -122.188,
          -122.322,
          -122.174,
          -121.993,
          -122.386,
          -122.256,
          -122.186
         ],
         "marker": {
          "color": [
           264950,
           235000,
           268000,
           282000,
           225000,
           258000,
           211000,
           250000,
           299000,
           272750,
           285000,
           206000,
           264950,
           265000,
           220000,
           200000,
           283200,
           260000,
           235000,
           249950,
           248500,
           261000,
           264000,
           268643,
           245000,
           215000,
           204950,
           286000,
           215000,
           250000,
           299950,
           285000,
           249000,
           200000,
           290000,
           204700,
           300000,
           268500,
           199500,
           247000,
           271000,
           268500,
           272000,
           270000,
           160000,
           240000,
           294400,
           270000,
           161000,
           220000,
           240000,
           200000,
           207000,
           240000,
           197000,
           270000,
           240000,
           234000,
           234000,
           194000,
           236000,
           294950,
           240000,
           247500,
           294999,
           259000,
           295000,
           279000,
           242000,
           199900,
           277500
          ],
          "coloraxis": "coloraxis",
          "size": [
           264950,
           235000,
           268000,
           282000,
           225000,
           258000,
           211000,
           250000,
           299000,
           272750,
           285000,
           206000,
           264950,
           265000,
           220000,
           200000,
           283200,
           260000,
           235000,
           249950,
           248500,
           261000,
           264000,
           268643,
           245000,
           215000,
           204950,
           286000,
           215000,
           250000,
           299950,
           285000,
           249000,
           200000,
           290000,
           204700,
           300000,
           268500,
           199500,
           247000,
           271000,
           268500,
           272000,
           270000,
           160000,
           240000,
           294400,
           270000,
           161000,
           220000,
           240000,
           200000,
           207000,
           240000,
           197000,
           270000,
           240000,
           234000,
           234000,
           194000,
           236000,
           294950,
           240000,
           247500,
           294999,
           259000,
           295000,
           279000,
           242000,
           199900,
           277500
          ],
          "sizemode": "area",
          "sizeref": 750
         },
         "mode": "markers",
         "name": "",
         "showlegend": false,
         "subplot": "mapbox",
         "type": "scattermapbox"
        }
       ],
       "layout": {
        "coloraxis": {
         "colorbar": {
          "title": {
           "text": "price"
          }
         },
         "colorscale": [
          [
           0,
           "#0d0887"
          ],
          [
           0.1111111111111111,
           "#46039f"
          ],
          [
           0.2222222222222222,
           "#7201a8"
          ],
          [
           0.3333333333333333,
           "#9c179e"
          ],
          [
           0.4444444444444444,
           "#bd3786"
          ],
          [
           0.5555555555555556,
           "#d8576b"
          ],
          [
           0.6666666666666666,
           "#ed7953"
          ],
          [
           0.7777777777777778,
           "#fb9f3a"
          ],
          [
           0.8888888888888888,
           "#fdca26"
          ],
          [
           1,
           "#f0f921"
          ]
         ]
        },
        "height": 600,
        "legend": {
         "itemsizing": "constant",
         "tracegroupgap": 0
        },
        "mapbox": {
         "center": {
          "lat": 47.376450704225356,
          "lon": -122.23274647887324
         },
         "domain": {
          "x": [
           0,
           1
          ],
          "y": [
           0,
           1
          ]
         },
         "style": "open-street-map",
         "zoom": 5
        },
        "margin": {
         "b": 0,
         "l": 0,
         "r": 0,
         "t": 0
        },
        "template": {
         "data": {
          "bar": [
           {
            "error_x": {
             "color": "#2a3f5f"
            },
            "error_y": {
             "color": "#2a3f5f"
            },
            "marker": {
             "line": {
              "color": "#E5ECF6",
              "width": 0.5
             },
             "pattern": {
              "fillmode": "overlay",
              "size": 10,
              "solidity": 0.2
             }
            },
            "type": "bar"
           }
          ],
          "barpolar": [
           {
            "marker": {
             "line": {
              "color": "#E5ECF6",
              "width": 0.5
             },
             "pattern": {
              "fillmode": "overlay",
              "size": 10,
              "solidity": 0.2
             }
            },
            "type": "barpolar"
           }
          ],
          "carpet": [
           {
            "aaxis": {
             "endlinecolor": "#2a3f5f",
             "gridcolor": "white",
             "linecolor": "white",
             "minorgridcolor": "white",
             "startlinecolor": "#2a3f5f"
            },
            "baxis": {
             "endlinecolor": "#2a3f5f",
             "gridcolor": "white",
             "linecolor": "white",
             "minorgridcolor": "white",
             "startlinecolor": "#2a3f5f"
            },
            "type": "carpet"
           }
          ],
          "choropleth": [
           {
            "colorbar": {
             "outlinewidth": 0,
             "ticks": ""
            },
            "type": "choropleth"
           }
          ],
          "contour": [
           {
            "colorbar": {
             "outlinewidth": 0,
             "ticks": ""
            },
            "colorscale": [
             [
              0,
              "#0d0887"
             ],
             [
              0.1111111111111111,
              "#46039f"
             ],
             [
              0.2222222222222222,
              "#7201a8"
             ],
             [
              0.3333333333333333,
              "#9c179e"
             ],
             [
              0.4444444444444444,
              "#bd3786"
             ],
             [
              0.5555555555555556,
              "#d8576b"
             ],
             [
              0.6666666666666666,
              "#ed7953"
             ],
             [
              0.7777777777777778,
              "#fb9f3a"
             ],
             [
              0.8888888888888888,
              "#fdca26"
             ],
             [
              1,
              "#f0f921"
             ]
            ],
            "type": "contour"
           }
          ],
          "contourcarpet": [
           {
            "colorbar": {
             "outlinewidth": 0,
             "ticks": ""
            },
            "type": "contourcarpet"
           }
          ],
          "heatmap": [
           {
            "colorbar": {
             "outlinewidth": 0,
             "ticks": ""
            },
            "colorscale": [
             [
              0,
              "#0d0887"
             ],
             [
              0.1111111111111111,
              "#46039f"
             ],
             [
              0.2222222222222222,
              "#7201a8"
             ],
             [
              0.3333333333333333,
              "#9c179e"
             ],
             [
              0.4444444444444444,
              "#bd3786"
             ],
             [
              0.5555555555555556,
              "#d8576b"
             ],
             [
              0.6666666666666666,
              "#ed7953"
             ],
             [
              0.7777777777777778,
              "#fb9f3a"
             ],
             [
              0.8888888888888888,
              "#fdca26"
             ],
             [
              1,
              "#f0f921"
             ]
            ],
            "type": "heatmap"
           }
          ],
          "heatmapgl": [
           {
            "colorbar": {
             "outlinewidth": 0,
             "ticks": ""
            },
            "colorscale": [
             [
              0,
              "#0d0887"
             ],
             [
              0.1111111111111111,
              "#46039f"
             ],
             [
              0.2222222222222222,
              "#7201a8"
             ],
             [
              0.3333333333333333,
              "#9c179e"
             ],
             [
              0.4444444444444444,
              "#bd3786"
             ],
             [
              0.5555555555555556,
              "#d8576b"
             ],
             [
              0.6666666666666666,
              "#ed7953"
             ],
             [
              0.7777777777777778,
              "#fb9f3a"
             ],
             [
              0.8888888888888888,
              "#fdca26"
             ],
             [
              1,
              "#f0f921"
             ]
            ],
            "type": "heatmapgl"
           }
          ],
          "histogram": [
           {
            "marker": {
             "pattern": {
              "fillmode": "overlay",
              "size": 10,
              "solidity": 0.2
             }
            },
            "type": "histogram"
           }
          ],
          "histogram2d": [
           {
            "colorbar": {
             "outlinewidth": 0,
             "ticks": ""
            },
            "colorscale": [
             [
              0,
              "#0d0887"
             ],
             [
              0.1111111111111111,
              "#46039f"
             ],
             [
              0.2222222222222222,
              "#7201a8"
             ],
             [
              0.3333333333333333,
              "#9c179e"
             ],
             [
              0.4444444444444444,
              "#bd3786"
             ],
             [
              0.5555555555555556,
              "#d8576b"
             ],
             [
              0.6666666666666666,
              "#ed7953"
             ],
             [
              0.7777777777777778,
              "#fb9f3a"
             ],
             [
              0.8888888888888888,
              "#fdca26"
             ],
             [
              1,
              "#f0f921"
             ]
            ],
            "type": "histogram2d"
           }
          ],
          "histogram2dcontour": [
           {
            "colorbar": {
             "outlinewidth": 0,
             "ticks": ""
            },
            "colorscale": [
             [
              0,
              "#0d0887"
             ],
             [
              0.1111111111111111,
              "#46039f"
             ],
             [
              0.2222222222222222,
              "#7201a8"
             ],
             [
              0.3333333333333333,
              "#9c179e"
             ],
             [
              0.4444444444444444,
              "#bd3786"
             ],
             [
              0.5555555555555556,
              "#d8576b"
             ],
             [
              0.6666666666666666,
              "#ed7953"
             ],
             [
              0.7777777777777778,
              "#fb9f3a"
             ],
             [
              0.8888888888888888,
              "#fdca26"
             ],
             [
              1,
              "#f0f921"
             ]
            ],
            "type": "histogram2dcontour"
           }
          ],
          "mesh3d": [
           {
            "colorbar": {
             "outlinewidth": 0,
             "ticks": ""
            },
            "type": "mesh3d"
           }
          ],
          "parcoords": [
           {
            "line": {
             "colorbar": {
              "outlinewidth": 0,
              "ticks": ""
             }
            },
            "type": "parcoords"
           }
          ],
          "pie": [
           {
            "automargin": true,
            "type": "pie"
           }
          ],
          "scatter": [
           {
            "fillpattern": {
             "fillmode": "overlay",
             "size": 10,
             "solidity": 0.2
            },
            "type": "scatter"
           }
          ],
          "scatter3d": [
           {
            "line": {
             "colorbar": {
              "outlinewidth": 0,
              "ticks": ""
             }
            },
            "marker": {
             "colorbar": {
              "outlinewidth": 0,
              "ticks": ""
             }
            },
            "type": "scatter3d"
           }
          ],
          "scattercarpet": [
           {
            "marker": {
             "colorbar": {
              "outlinewidth": 0,
              "ticks": ""
             }
            },
            "type": "scattercarpet"
           }
          ],
          "scattergeo": [
           {
            "marker": {
             "colorbar": {
              "outlinewidth": 0,
              "ticks": ""
             }
            },
            "type": "scattergeo"
           }
          ],
          "scattergl": [
           {
            "marker": {
             "colorbar": {
              "outlinewidth": 0,
              "ticks": ""
             }
            },
            "type": "scattergl"
           }
          ],
          "scattermapbox": [
           {
            "marker": {
             "colorbar": {
              "outlinewidth": 0,
              "ticks": ""
             }
            },
            "type": "scattermapbox"
           }
          ],
          "scatterpolar": [
           {
            "marker": {
             "colorbar": {
              "outlinewidth": 0,
              "ticks": ""
             }
            },
            "type": "scatterpolar"
           }
          ],
          "scatterpolargl": [
           {
            "marker": {
             "colorbar": {
              "outlinewidth": 0,
              "ticks": ""
             }
            },
            "type": "scatterpolargl"
           }
          ],
          "scatterternary": [
           {
            "marker": {
             "colorbar": {
              "outlinewidth": 0,
              "ticks": ""
             }
            },
            "type": "scatterternary"
           }
          ],
          "surface": [
           {
            "colorbar": {
             "outlinewidth": 0,
             "ticks": ""
            },
            "colorscale": [
             [
              0,
              "#0d0887"
             ],
             [
              0.1111111111111111,
              "#46039f"
             ],
             [
              0.2222222222222222,
              "#7201a8"
             ],
             [
              0.3333333333333333,
              "#9c179e"
             ],
             [
              0.4444444444444444,
              "#bd3786"
             ],
             [
              0.5555555555555556,
              "#d8576b"
             ],
             [
              0.6666666666666666,
              "#ed7953"
             ],
             [
              0.7777777777777778,
              "#fb9f3a"
             ],
             [
              0.8888888888888888,
              "#fdca26"
             ],
             [
              1,
              "#f0f921"
             ]
            ],
            "type": "surface"
           }
          ],
          "table": [
           {
            "cells": {
             "fill": {
              "color": "#EBF0F8"
             },
             "line": {
              "color": "white"
             }
            },
            "header": {
             "fill": {
              "color": "#C8D4E3"
             },
             "line": {
              "color": "white"
             }
            },
            "type": "table"
           }
          ]
         },
         "layout": {
          "annotationdefaults": {
           "arrowcolor": "#2a3f5f",
           "arrowhead": 0,
           "arrowwidth": 1
          },
          "autotypenumbers": "strict",
          "coloraxis": {
           "colorbar": {
            "outlinewidth": 0,
            "ticks": ""
           }
          },
          "colorscale": {
           "diverging": [
            [
             0,
             "#8e0152"
            ],
            [
             0.1,
             "#c51b7d"
            ],
            [
             0.2,
             "#de77ae"
            ],
            [
             0.3,
             "#f1b6da"
            ],
            [
             0.4,
             "#fde0ef"
            ],
            [
             0.5,
             "#f7f7f7"
            ],
            [
             0.6,
             "#e6f5d0"
            ],
            [
             0.7,
             "#b8e186"
            ],
            [
             0.8,
             "#7fbc41"
            ],
            [
             0.9,
             "#4d9221"
            ],
            [
             1,
             "#276419"
            ]
           ],
           "sequential": [
            [
             0,
             "#0d0887"
            ],
            [
             0.1111111111111111,
             "#46039f"
            ],
            [
             0.2222222222222222,
             "#7201a8"
            ],
            [
             0.3333333333333333,
             "#9c179e"
            ],
            [
             0.4444444444444444,
             "#bd3786"
            ],
            [
             0.5555555555555556,
             "#d8576b"
            ],
            [
             0.6666666666666666,
             "#ed7953"
            ],
            [
             0.7777777777777778,
             "#fb9f3a"
            ],
            [
             0.8888888888888888,
             "#fdca26"
            ],
            [
             1,
             "#f0f921"
            ]
           ],
           "sequentialminus": [
            [
             0,
             "#0d0887"
            ],
            [
             0.1111111111111111,
             "#46039f"
            ],
            [
             0.2222222222222222,
             "#7201a8"
            ],
            [
             0.3333333333333333,
             "#9c179e"
            ],
            [
             0.4444444444444444,
             "#bd3786"
            ],
            [
             0.5555555555555556,
             "#d8576b"
            ],
            [
             0.6666666666666666,
             "#ed7953"
            ],
            [
             0.7777777777777778,
             "#fb9f3a"
            ],
            [
             0.8888888888888888,
             "#fdca26"
            ],
            [
             1,
             "#f0f921"
            ]
           ]
          },
          "colorway": [
           "#636efa",
           "#EF553B",
           "#00cc96",
           "#ab63fa",
           "#FFA15A",
           "#19d3f3",
           "#FF6692",
           "#B6E880",
           "#FF97FF",
           "#FECB52"
          ],
          "font": {
           "color": "#2a3f5f"
          },
          "geo": {
           "bgcolor": "white",
           "lakecolor": "white",
           "landcolor": "#E5ECF6",
           "showlakes": true,
           "showland": true,
           "subunitcolor": "white"
          },
          "hoverlabel": {
           "align": "left"
          },
          "hovermode": "closest",
          "mapbox": {
           "style": "light"
          },
          "paper_bgcolor": "white",
          "plot_bgcolor": "#E5ECF6",
          "polar": {
           "angularaxis": {
            "gridcolor": "white",
            "linecolor": "white",
            "ticks": ""
           },
           "bgcolor": "#E5ECF6",
           "radialaxis": {
            "gridcolor": "white",
            "linecolor": "white",
            "ticks": ""
           }
          },
          "scene": {
           "xaxis": {
            "backgroundcolor": "#E5ECF6",
            "gridcolor": "white",
            "gridwidth": 2,
            "linecolor": "white",
            "showbackground": true,
            "ticks": "",
            "zerolinecolor": "white"
           },
           "yaxis": {
            "backgroundcolor": "#E5ECF6",
            "gridcolor": "white",
            "gridwidth": 2,
            "linecolor": "white",
            "showbackground": true,
            "ticks": "",
            "zerolinecolor": "white"
           },
           "zaxis": {
            "backgroundcolor": "#E5ECF6",
            "gridcolor": "white",
            "gridwidth": 2,
            "linecolor": "white",
            "showbackground": true,
            "ticks": "",
            "zerolinecolor": "white"
           }
          },
          "shapedefaults": {
           "line": {
            "color": "#2a3f5f"
           }
          },
          "ternary": {
           "aaxis": {
            "gridcolor": "white",
            "linecolor": "white",
            "ticks": ""
           },
           "baxis": {
            "gridcolor": "white",
            "linecolor": "white",
            "ticks": ""
           },
           "bgcolor": "#E5ECF6",
           "caxis": {
            "gridcolor": "white",
            "linecolor": "white",
            "ticks": ""
           }
          },
          "title": {
           "x": 0.05
          },
          "xaxis": {
           "automargin": true,
           "gridcolor": "white",
           "linecolor": "white",
           "ticks": "",
           "title": {
            "standoff": 15
           },
           "zerolinecolor": "white",
           "zerolinewidth": 2
          },
          "yaxis": {
           "automargin": true,
           "gridcolor": "white",
           "linecolor": "white",
           "ticks": "",
           "title": {
            "standoff": 15
           },
           "zerolinecolor": "white",
           "zerolinewidth": 2
          }
         }
        }
       }
      }
     },
     "metadata": {},
     "output_type": "display_data"
    }
   ],
   "source": [
    "# create scatter_geo map with plotly express using lat and long of df_op_final\n",
    "fig = px.scatter_mapbox(df_op_q1, lat='lat', lon='long', color='price', size='price', zoom=5, height=600)\n",
    "fig.update_layout(mapbox_style='open-street-map')\n",
    "fig.update_layout(margin={'r':0, 't':0, 'l':0, 'b':0})\n",
    "fig.show()\n",
    "\n"
   ]
  },
  {
   "attachments": {},
   "cell_type": "markdown",
   "metadata": {},
   "source": [
    "# Question 2"
   ]
  },
  {
   "cell_type": "code",
   "execution_count": 361,
   "metadata": {},
   "outputs": [
    {
     "data": {
      "image/png": "[encoded data removed]",
      "text/plain": [
       "<Figure size 1500x600 with 10 Axes>"
      ]
     },
     "metadata": {},
     "output_type": "display_data"
    }
   ],
   "source": [
    "df_op_final = df_op[(df_op['bedrooms'] >= 2) & (df_op['bedrooms'] <= 6) & \n",
    "                    (df_op['bathrooms'] >= 2) & (df_op['bathrooms'] <= 3) & \n",
    "                    (df_op['sqm_living'] >= 150) & (df_op['sqm_living'] <= 200) & \n",
    "                    (df_op['sqm_lot'] >= 700) & (df_op['sqm_lot'] <= 1400) & \n",
    "                    (df_op['price'] >= 0) & (df_op['price'] <= 300000)\n",
    "                    ]\n",
    "\n",
    "df_op_final.sort_values('price')\n",
    "\n",
    "\n",
    "g = sns.FacetGrid(df_op_final, col='bedrooms', row='bathrooms', height=3, aspect=1)\n",
    "\n",
    "g.map_dataframe(sns.scatterplot, x='sqm_living', y='price', hue='price', size='sqm_lot')\n",
    "\n",
    "g.map(plt.grid, linestyle='--', color='gray')\n",
    "\n",
    "g.set_axis_labels('sqm_living', 'price')\n",
    "\n",
    "#g.fig.suptitle('Price vs Price per sqm for bedrooms, bathrooms, sqm_living_cat', fontsize=10)\n",
    "\n",
    "plt.show()"
   ]
  },
  {
   "cell_type": "code",
   "execution_count": 362,
   "metadata": {},
   "outputs": [
    {
     "data": {
      "text/html": [
       "<div>\n",
       "<style scoped>\n",
       "    .dataframe tbody tr th:only-of-type {\n",
       "        vertical-align: middle;\n",
       "    }\n",
       "\n",
       "    .dataframe tbody tr th {\n",
       "        vertical-align: top;\n",
       "    }\n",
       "\n",
       "    .dataframe thead th {\n",
       "        text-align: right;\n",
       "    }\n",
       "</style>\n",
       "<table border=\"1\" class=\"dataframe\">\n",
       "  <thead>\n",
       "    <tr style=\"text-align: right;\">\n",
       "      <th></th>\n",
       "      <th>price</th>\n",
       "      <th>price_sqm</th>\n",
       "      <th>sqm_living</th>\n",
       "      <th>sqm_lot</th>\n",
       "      <th>bedrooms</th>\n",
       "      <th>bathrooms</th>\n",
       "      <th>lat</th>\n",
       "      <th>long</th>\n",
       "      <th>sales_month</th>\n",
       "    </tr>\n",
       "  </thead>\n",
       "  <tbody>\n",
       "    <tr>\n",
       "      <th>count</th>\n",
       "      <td>544.000</td>\n",
       "      <td>544.000</td>\n",
       "      <td>544.000</td>\n",
       "      <td>544.000</td>\n",
       "      <td>544.000</td>\n",
       "      <td>544.000</td>\n",
       "      <td>544.000</td>\n",
       "      <td>544.000</td>\n",
       "      <td>544.000</td>\n",
       "    </tr>\n",
       "    <tr>\n",
       "      <th>mean</th>\n",
       "      <td>258793.072</td>\n",
       "      <td>1518.382</td>\n",
       "      <td>171.316</td>\n",
       "      <td>882.415</td>\n",
       "      <td>3.476</td>\n",
       "      <td>2.026</td>\n",
       "      <td>47.374</td>\n",
       "      <td>-122.236</td>\n",
       "      <td>6.526</td>\n",
       "    </tr>\n",
       "    <tr>\n",
       "      <th>std</th>\n",
       "      <td>29837.813</td>\n",
       "      <td>199.085</td>\n",
       "      <td>14.070</td>\n",
       "      <td>160.372</td>\n",
       "      <td>0.681</td>\n",
       "      <td>0.158</td>\n",
       "      <td>0.096</td>\n",
       "      <td>0.117</td>\n",
       "      <td>3.288</td>\n",
       "    </tr>\n",
       "    <tr>\n",
       "      <th>min</th>\n",
       "      <td>158550.000</td>\n",
       "      <td>958.000</td>\n",
       "      <td>150.000</td>\n",
       "      <td>700.000</td>\n",
       "      <td>2.000</td>\n",
       "      <td>2.000</td>\n",
       "      <td>47.191</td>\n",
       "      <td>-122.400</td>\n",
       "      <td>1.000</td>\n",
       "    </tr>\n",
       "    <tr>\n",
       "      <th>25%</th>\n",
       "      <td>240750.000</td>\n",
       "      <td>1385.000</td>\n",
       "      <td>160.000</td>\n",
       "      <td>758.000</td>\n",
       "      <td>3.000</td>\n",
       "      <td>2.000</td>\n",
       "      <td>47.311</td>\n",
       "      <td>-122.320</td>\n",
       "      <td>4.000</td>\n",
       "    </tr>\n",
       "    <tr>\n",
       "      <th>50%</th>\n",
       "      <td>264950.000</td>\n",
       "      <td>1530.000</td>\n",
       "      <td>169.000</td>\n",
       "      <td>836.000</td>\n",
       "      <td>3.000</td>\n",
       "      <td>2.000</td>\n",
       "      <td>47.361</td>\n",
       "      <td>-122.268</td>\n",
       "      <td>6.000</td>\n",
       "    </tr>\n",
       "    <tr>\n",
       "      <th>75%</th>\n",
       "      <td>282250.000</td>\n",
       "      <td>1662.000</td>\n",
       "      <td>182.000</td>\n",
       "      <td>959.250</td>\n",
       "      <td>4.000</td>\n",
       "      <td>2.000</td>\n",
       "      <td>47.436</td>\n",
       "      <td>-122.176</td>\n",
       "      <td>9.000</td>\n",
       "    </tr>\n",
       "    <tr>\n",
       "      <th>max</th>\n",
       "      <td>300000.000</td>\n",
       "      <td>1974.000</td>\n",
       "      <td>200.000</td>\n",
       "      <td>1400.000</td>\n",
       "      <td>6.000</td>\n",
       "      <td>3.000</td>\n",
       "      <td>47.776</td>\n",
       "      <td>-121.730</td>\n",
       "      <td>12.000</td>\n",
       "    </tr>\n",
       "  </tbody>\n",
       "</table>\n",
       "</div>"
      ],
      "text/plain": [
       "           price  price_sqm  sqm_living  sqm_lot  bedrooms  bathrooms     lat  \\\n",
       "count    544.000    544.000     544.000  544.000   544.000    544.000 544.000   \n",
       "mean  258793.072   1518.382     171.316  882.415     3.476      2.026  47.374   \n",
       "std    29837.813    199.085      14.070  160.372     0.681      0.158   0.096   \n",
       "min   158550.000    958.000     150.000  700.000     2.000      2.000  47.191   \n",
       "25%   240750.000   1385.000     160.000  758.000     3.000      2.000  47.311   \n",
       "50%   264950.000   1530.000     169.000  836.000     3.000      2.000  47.361   \n",
       "75%   282250.000   1662.000     182.000  959.250     4.000      2.000  47.436   \n",
       "max   300000.000   1974.000     200.000 1400.000     6.000      3.000  47.776   \n",
       "\n",
       "          long  sales_month  \n",
       "count  544.000      544.000  \n",
       "mean  -122.236        6.526  \n",
       "std      0.117        3.288  \n",
       "min   -122.400        1.000  \n",
       "25%   -122.320        4.000  \n",
       "50%   -122.268        6.000  \n",
       "75%   -122.176        9.000  \n",
       "max   -121.730       12.000  "
      ]
     },
     "execution_count": 362,
     "metadata": {},
     "output_type": "execute_result"
    }
   ],
   "source": [
    "df_op_final.describe()"
   ]
  },
  {
   "cell_type": "code",
   "execution_count": 363,
   "metadata": {},
   "outputs": [
    {
     "data": {
      "text/html": [
       "<div>\n",
       "<style scoped>\n",
       "    .dataframe tbody tr th:only-of-type {\n",
       "        vertical-align: middle;\n",
       "    }\n",
       "\n",
       "    .dataframe tbody tr th {\n",
       "        vertical-align: top;\n",
       "    }\n",
       "\n",
       "    .dataframe thead th {\n",
       "        text-align: right;\n",
       "    }\n",
       "</style>\n",
       "<table border=\"1\" class=\"dataframe\">\n",
       "  <thead>\n",
       "    <tr style=\"text-align: right;\">\n",
       "      <th></th>\n",
       "      <th>price</th>\n",
       "      <th>price_cat</th>\n",
       "      <th>price_sqm</th>\n",
       "      <th>sqm_living</th>\n",
       "      <th>sqm_living_cat</th>\n",
       "      <th>sqm_lot</th>\n",
       "      <th>bedrooms</th>\n",
       "      <th>bathrooms</th>\n",
       "      <th>lat</th>\n",
       "      <th>long</th>\n",
       "      <th>sales_month</th>\n",
       "      <th>sales_month_name</th>\n",
       "    </tr>\n",
       "  </thead>\n",
       "  <tbody>\n",
       "    <tr>\n",
       "      <th>15142</th>\n",
       "      <td>169000</td>\n",
       "      <td>100k-200k</td>\n",
       "      <td>1056</td>\n",
       "      <td>160</td>\n",
       "      <td>100-200</td>\n",
       "      <td>908</td>\n",
       "      <td>3</td>\n",
       "      <td>2</td>\n",
       "      <td>47.373</td>\n",
       "      <td>-122.286</td>\n",
       "      <td>10</td>\n",
       "      <td>Oct</td>\n",
       "    </tr>\n",
       "    <tr>\n",
       "      <th>2124</th>\n",
       "      <td>180500</td>\n",
       "      <td>100k-200k</td>\n",
       "      <td>1081</td>\n",
       "      <td>167</td>\n",
       "      <td>100-200</td>\n",
       "      <td>791</td>\n",
       "      <td>3</td>\n",
       "      <td>2</td>\n",
       "      <td>47.364</td>\n",
       "      <td>-122.185</td>\n",
       "      <td>10</td>\n",
       "      <td>Oct</td>\n",
       "    </tr>\n",
       "    <tr>\n",
       "      <th>11285</th>\n",
       "      <td>182000</td>\n",
       "      <td>100k-200k</td>\n",
       "      <td>1000</td>\n",
       "      <td>182</td>\n",
       "      <td>100-200</td>\n",
       "      <td>825</td>\n",
       "      <td>3</td>\n",
       "      <td>2</td>\n",
       "      <td>47.334</td>\n",
       "      <td>-122.301</td>\n",
       "      <td>7</td>\n",
       "      <td>Jul</td>\n",
       "    </tr>\n",
       "    <tr>\n",
       "      <th>5371</th>\n",
       "      <td>185850</td>\n",
       "      <td>100k-200k</td>\n",
       "      <td>1231</td>\n",
       "      <td>151</td>\n",
       "      <td>100-200</td>\n",
       "      <td>1083</td>\n",
       "      <td>3</td>\n",
       "      <td>2</td>\n",
       "      <td>47.446</td>\n",
       "      <td>-122.278</td>\n",
       "      <td>3</td>\n",
       "      <td>Mar</td>\n",
       "    </tr>\n",
       "    <tr>\n",
       "      <th>15330</th>\n",
       "      <td>190000</td>\n",
       "      <td>100k-200k</td>\n",
       "      <td>1250</td>\n",
       "      <td>152</td>\n",
       "      <td>100-200</td>\n",
       "      <td>718</td>\n",
       "      <td>3</td>\n",
       "      <td>2</td>\n",
       "      <td>47.358</td>\n",
       "      <td>-122.039</td>\n",
       "      <td>5</td>\n",
       "      <td>May</td>\n",
       "    </tr>\n",
       "    <tr>\n",
       "      <th>...</th>\n",
       "      <td>...</td>\n",
       "      <td>...</td>\n",
       "      <td>...</td>\n",
       "      <td>...</td>\n",
       "      <td>...</td>\n",
       "      <td>...</td>\n",
       "      <td>...</td>\n",
       "      <td>...</td>\n",
       "      <td>...</td>\n",
       "      <td>...</td>\n",
       "      <td>...</td>\n",
       "      <td>...</td>\n",
       "    </tr>\n",
       "    <tr>\n",
       "      <th>12976</th>\n",
       "      <td>300000</td>\n",
       "      <td>200k-300k</td>\n",
       "      <td>1554</td>\n",
       "      <td>193</td>\n",
       "      <td>100-200</td>\n",
       "      <td>913</td>\n",
       "      <td>3</td>\n",
       "      <td>2</td>\n",
       "      <td>47.306</td>\n",
       "      <td>-122.394</td>\n",
       "      <td>5</td>\n",
       "      <td>May</td>\n",
       "    </tr>\n",
       "    <tr>\n",
       "      <th>14053</th>\n",
       "      <td>300000</td>\n",
       "      <td>200k-300k</td>\n",
       "      <td>1786</td>\n",
       "      <td>168</td>\n",
       "      <td>100-200</td>\n",
       "      <td>765</td>\n",
       "      <td>3</td>\n",
       "      <td>2</td>\n",
       "      <td>47.319</td>\n",
       "      <td>-122.273</td>\n",
       "      <td>3</td>\n",
       "      <td>Mar</td>\n",
       "    </tr>\n",
       "    <tr>\n",
       "      <th>16033</th>\n",
       "      <td>300000</td>\n",
       "      <td>200k-300k</td>\n",
       "      <td>1899</td>\n",
       "      <td>158</td>\n",
       "      <td>100-200</td>\n",
       "      <td>788</td>\n",
       "      <td>3</td>\n",
       "      <td>2</td>\n",
       "      <td>47.262</td>\n",
       "      <td>-122.305</td>\n",
       "      <td>10</td>\n",
       "      <td>Oct</td>\n",
       "    </tr>\n",
       "    <tr>\n",
       "      <th>18664</th>\n",
       "      <td>300000</td>\n",
       "      <td>200k-300k</td>\n",
       "      <td>1863</td>\n",
       "      <td>161</td>\n",
       "      <td>100-200</td>\n",
       "      <td>932</td>\n",
       "      <td>3</td>\n",
       "      <td>2</td>\n",
       "      <td>47.311</td>\n",
       "      <td>-122.345</td>\n",
       "      <td>10</td>\n",
       "      <td>Oct</td>\n",
       "    </tr>\n",
       "    <tr>\n",
       "      <th>19579</th>\n",
       "      <td>300000</td>\n",
       "      <td>200k-300k</td>\n",
       "      <td>1613</td>\n",
       "      <td>186</td>\n",
       "      <td>100-200</td>\n",
       "      <td>702</td>\n",
       "      <td>3</td>\n",
       "      <td>2</td>\n",
       "      <td>47.480</td>\n",
       "      <td>-122.228</td>\n",
       "      <td>12</td>\n",
       "      <td>Dec</td>\n",
       "    </tr>\n",
       "  </tbody>\n",
       "</table>\n",
       "<p>307 rows × 12 columns</p>\n",
       "</div>"
      ],
      "text/plain": [
       "        price  price_cat  price_sqm  sqm_living sqm_living_cat  sqm_lot  \\\n",
       "15142  169000  100k-200k       1056         160        100-200      908   \n",
       "2124   180500  100k-200k       1081         167        100-200      791   \n",
       "11285  182000  100k-200k       1000         182        100-200      825   \n",
       "5371   185850  100k-200k       1231         151        100-200     1083   \n",
       "15330  190000  100k-200k       1250         152        100-200      718   \n",
       "...       ...        ...        ...         ...            ...      ...   \n",
       "12976  300000  200k-300k       1554         193        100-200      913   \n",
       "14053  300000  200k-300k       1786         168        100-200      765   \n",
       "16033  300000  200k-300k       1899         158        100-200      788   \n",
       "18664  300000  200k-300k       1863         161        100-200      932   \n",
       "19579  300000  200k-300k       1613         186        100-200      702   \n",
       "\n",
       "       bedrooms  bathrooms    lat     long  sales_month sales_month_name  \n",
       "15142         3          2 47.373 -122.286           10              Oct  \n",
       "2124          3          2 47.364 -122.185           10              Oct  \n",
       "11285         3          2 47.334 -122.301            7              Jul  \n",
       "5371          3          2 47.446 -122.278            3              Mar  \n",
       "15330         3          2 47.358 -122.039            5              May  \n",
       "...         ...        ...    ...      ...          ...              ...  \n",
       "12976         3          2 47.306 -122.394            5              May  \n",
       "14053         3          2 47.319 -122.273            3              Mar  \n",
       "16033         3          2 47.262 -122.305           10              Oct  \n",
       "18664         3          2 47.311 -122.345           10              Oct  \n",
       "19579         3          2 47.480 -122.228           12              Dec  \n",
       "\n",
       "[307 rows x 12 columns]"
      ]
     },
     "execution_count": 363,
     "metadata": {},
     "output_type": "execute_result"
    }
   ],
   "source": [
    "df_op_q2 = df_op[(df_op['bedrooms'] == 3) & \n",
    "                    (df_op['bathrooms'] >= 2) & \n",
    "                    (df_op['sqm_living'] >= 150) & (df_op['sqm_living'] <= 200) & \n",
    "                    (df_op['sqm_lot'] >= 700) & (df_op['sqm_lot'] <= 1400) & \n",
    "                    (df_op['price'] >= 0) & (df_op['price'] <= 300000)\n",
    "                    ]\n",
    "\n",
    "df_op_q2.sort_values('price')\n"
   ]
  },
  {
   "cell_type": "code",
   "execution_count": 364,
   "metadata": {},
   "outputs": [
    {
     "data": {
      "application/vnd.plotly.v1+json": {
       "config": {
        "plotlyServerURL": "https://plot.ly"
       },
       "data": [
        {
         "coloraxis": "coloraxis",
         "hovertemplate": "price=%{z}<br>lat=%{lat}<br>long=%{lon}<extra></extra>",
         "lat": [
          47.1976,
          47.3777,
          47.398,
          47.2988,
          47.1913,
          47.4945,
          47.2613,
          47.3417,
          47.4404,
          47.3608,
          47.3366,
          47.3289,
          47.3085,
          47.4545,
          47.3225,
          47.267,
          47.3766,
          47.3187,
          47.3191,
          47.4851,
          47.4216,
          47.3945,
          47.5318,
          47.3643,
          47.4997,
          47.369,
          47.4257,
          47.3188,
          47.7244,
          47.4513,
          47.3186,
          47.2103,
          47.5003,
          47.5359,
          47.3305,
          47.2671,
          47.4472,
          47.4572,
          47.342,
          47.442,
          47.3665,
          47.3794,
          47.4678,
          47.3631,
          47.473,
          47.3729,
          47.3066,
          47.3814,
          47.4479,
          47.3133,
          47.5,
          47.4323,
          47.4648,
          47.4213,
          47.1913,
          47.4617,
          47.3398,
          47.3115,
          47.2624,
          47.3546,
          47.305,
          47.4696,
          47.3739,
          47.4612,
          47.3494,
          47.3095,
          47.4631,
          47.37,
          47.4729,
          47.335,
          47.1949,
          47.3117,
          47.3177,
          47.3136,
          47.5081,
          47.4331,
          47.2979,
          47.7762,
          47.4455,
          47.2824,
          47.4448,
          47.3491,
          47.6553,
          47.3764,
          47.2132,
          47.391,
          47.3187,
          47.4562,
          47.4125,
          47.3609,
          47.3317,
          47.3752,
          47.2638,
          47.4539,
          47.4762,
          47.3802,
          47.3683,
          47.3997,
          47.3107,
          47.3601,
          47.3766,
          47.3514,
          47.4579,
          47.4868,
          47.326,
          47.1958,
          47.3456,
          47.1969,
          47.4578,
          47.4373,
          47.2091,
          47.348,
          47.3473,
          47.4984,
          47.3556,
          47.495,
          47.3116,
          47.4171,
          47.3747,
          47.2021,
          47.3054,
          47.4366,
          47.3617,
          47.3185,
          47.4224,
          47.3175,
          47.2137,
          47.4709,
          47.2656,
          47.3537,
          47.2025,
          47.3857,
          47.4818,
          47.3375,
          47.4997,
          47.7527,
          47.3124,
          47.3715,
          47.4571,
          47.2672,
          47.3833,
          47.3987,
          47.3864,
          47.4361,
          47.3092,
          47.3505,
          47.2975,
          47.3109,
          47.314,
          47.4501,
          47.3155,
          47.3476,
          47.3074,
          47.3619,
          47.2602,
          47.2769,
          47.4474,
          47.3429,
          47.3605,
          47.353,
          47.4517,
          47.3209,
          47.3263,
          47.2968,
          47.3499,
          47.4932,
          47.3663,
          47.3144,
          47.4863,
          47.3566,
          47.3298,
          47.2887,
          47.3213,
          47.2619,
          47.2077,
          47.2925,
          47.3939,
          47.2741,
          47.2868,
          47.355,
          47.3733,
          47.3344,
          47.2642,
          47.3336,
          47.314,
          47.3104,
          47.3106,
          47.4437,
          47.2623,
          47.3925,
          47.3255,
          47.3285,
          47.334,
          47.3635,
          47.267,
          47.4149,
          47.3186,
          47.3155,
          47.3099,
          47.3058,
          47.4105,
          47.4024,
          47.434,
          47.497,
          47.3976,
          47.3099,
          47.39,
          47.3876,
          47.4713,
          47.3352,
          47.2942,
          47.3109,
          47.2782,
          47.3076,
          47.2837,
          47.3066,
          47.4005,
          47.3462,
          47.3921,
          47.3195,
          47.4707,
          47.3321,
          47.3319,
          47.4085,
          47.3746,
          47.3521,
          47.3584,
          47.2639,
          47.2874,
          47.3106,
          47.4425,
          47.2837,
          47.2622,
          47.2998,
          47.3558,
          47.3731,
          47.3731,
          47.3196,
          47.3815,
          47.3576,
          47.4829,
          47.4594,
          47.3862,
          47.306,
          47.3478,
          47.412,
          47.3431,
          47.3413,
          47.4619,
          47.2623,
          47.2622,
          47.2762,
          47.311,
          47.3385,
          47.4222,
          47.3127,
          47.5317,
          47.4783,
          47.383,
          47.2739,
          47.1956,
          47.2674,
          47.3146,
          47.3321,
          47.1952,
          47.4185,
          47.7757,
          47.2981,
          47.3324,
          47.397,
          47.3532,
          47.3823,
          47.343,
          47.2634,
          47.478,
          47.2908,
          47.3586,
          47.2583,
          47.3518,
          47.3516,
          47.4825,
          47.3718,
          47.3149,
          47.2057,
          47.2994,
          47.2899,
          47.7704,
          47.3589,
          47.3613,
          47.3257,
          47.2004,
          47.3173,
          47.3169,
          47.4391,
          47.3108,
          47.3484,
          47.3173,
          47.3187,
          47.397,
          47.3072,
          47.3213,
          47.2909,
          47.4346,
          47.3174,
          47.3596,
          47.4475,
          47.4798
         ],
         "lon": [
          -121.999,
          -122.165,
          -122.299,
          -122.371,
          -122.012,
          -122.22,
          -122.255,
          -122.271,
          -122.191,
          -122.056,
          -122.306,
          -122.327,
          -122.376,
          -122.208,
          -122.273,
          -122.25,
          -122.184,
          -122.182,
          -122.383,
          -122.338,
          -122.174,
          -122.313,
          -121.833,
          -122.185,
          -122.231,
          -122.084,
          -122.146,
          -122.212,
          -122.222,
          -122.268,
          -122.391,
          -121.999,
          -122.328,
          -122.276,
          -122.285,
          -122.236,
          -121.774,
          -122.18,
          -122.279,
          -122.282,
          -122.107,
          -122.113,
          -121.745,
          -122.276,
          -122.328,
          -122.295,
          -122.209,
          -122.322,
          -122.213,
          -122.364,
          -122.347,
          -122.328,
          -121.756,
          -122.322,
          -122.015,
          -122.327,
          -122.133,
          -122.4,
          -122.299,
          -122.176,
          -122.373,
          -122.298,
          -122.29,
          -122.325,
          -122.171,
          -122.217,
          -122.126,
          -122.17,
          -122.301,
          -122.321,
          -121.982,
          -122.208,
          -122.182,
          -122.344,
          -122.266,
          -122.291,
          -122.377,
          -122.198,
          -122.278,
          -122.301,
          -121.77,
          -122.177,
          -121.912,
          -122.179,
          -122.001,
          -122.316,
          -122.179,
          -122.33,
          -122.207,
          -122.048,
          -122.365,
          -122.236,
          -122.243,
          -122.15,
          -122.156,
          -122.207,
          -122.279,
          -122.313,
          -122.397,
          -122.046,
          -122.115,
          -122.167,
          -122.164,
          -122.303,
          -122.273,
          -122.009,
          -122.305,
          -122.011,
          -122.274,
          -122.333,
          -122.009,
          -122.035,
          -122.305,
          -122.176,
          -122.175,
          -122.342,
          -122.4,
          -122.202,
          -122.164,
          -122.002,
          -122.38,
          -122.171,
          -122.05,
          -122.391,
          -122.159,
          -122.182,
          -121.989,
          -122.26,
          -122.217,
          -122.303,
          -121.999,
          -122.079,
          -122.231,
          -122.291,
          -122.326,
          -122.306,
          -122.345,
          -122.29,
          -122.272,
          -122.313,
          -122.1,
          -122.3,
          -122.03,
          -122.189,
          -122.375,
          -122.027,
          -122.37,
          -122.362,
          -122.001,
          -122.274,
          -122.364,
          -122.3,
          -122.385,
          -122.285,
          -122.219,
          -122.145,
          -122.167,
          -122.036,
          -122.12,
          -122.172,
          -122.331,
          -122.338,
          -122.189,
          -122.372,
          -122.296,
          -122.278,
          -122.088,
          -122.339,
          -121.73,
          -122.039,
          -122.277,
          -122.269,
          -122.385,
          -122.308,
          -122.011,
          -122.346,
          -122.164,
          -122.337,
          -122.21,
          -122.176,
          -122.289,
          -122.301,
          -122.219,
          -122.269,
          -122.365,
          -122.394,
          -122.325,
          -122.194,
          -122.217,
          -122.161,
          -122.305,
          -122.328,
          -122.3,
          -122.052,
          -122.312,
          -122.181,
          -122.331,
          -122.365,
          -122.206,
          -122.394,
          -122.18,
          -122.171,
          -122.171,
          -122.18,
          -122.166,
          -122.197,
          -122.158,
          -122.211,
          -122.117,
          -122.344,
          -122.19,
          -122.339,
          -122.212,
          -122.377,
          -122.358,
          -122.378,
          -122.293,
          -122.286,
          -122.182,
          -122.273,
          -122.26,
          -122.373,
          -122.267,
          -122.195,
          -122.217,
          -122.302,
          -122.086,
          -122.285,
          -122.187,
          -122.365,
          -122.272,
          -122.207,
          -122.303,
          -122.387,
          -122.173,
          -122.286,
          -122.286,
          -122.272,
          -122.09,
          -122.039,
          -122.341,
          -122.346,
          -122.315,
          -122.379,
          -122.298,
          -122.195,
          -122.305,
          -122.29,
          -122.153,
          -122.305,
          -122.219,
          -122.148,
          -122.003,
          -122.256,
          -122.331,
          -122.362,
          -122.351,
          -122.338,
          -122.168,
          -122.249,
          -121.985,
          -122.306,
          -122.379,
          -122.323,
          -121.986,
          -122.207,
          -122.35,
          -122.374,
          -122.28,
          -122.187,
          -122.304,
          -122.166,
          -122.28,
          -122.289,
          -122.278,
          -122.351,
          -122.074,
          -122.3,
          -122.057,
          -122.057,
          -122.164,
          -122.182,
          -122.378,
          -122.003,
          -122.37,
          -122.287,
          -122.264,
          -122.281,
          -122.053,
          -122.276,
          -122.003,
          -122.181,
          -122.352,
          -122.189,
          -122.345,
          -122.298,
          -122.21,
          -122.171,
          -122.203,
          -122.328,
          -122.187,
          -122.352,
          -122.171,
          -122.18,
          -122.16,
          -122.213,
          -122.228
         ],
         "name": "",
         "radius": 10,
         "subplot": "mapbox",
         "type": "densitymapbox",
         "z": [
          269950,
          297000,
          279950,
          272500,
          295000,
          245000,
          227950,
          196000,
          280000,
          270500,
          264000,
          232500,
          254000,
          280000,
          289000,
          249900,
          270000,
          234975,
          274500,
          225000,
          249000,
          243000,
          299000,
          180500,
          251700,
          270000,
          265000,
          250000,
          257000,
          288350,
          275000,
          283000,
          300000,
          285000,
          265000,
          225000,
          271900,
          273000,
          299950,
          259500,
          219950,
          285000,
          290000,
          299000,
          299950,
          240000,
          257200,
          242500,
          205000,
          299000,
          203000,
          295000,
          290000,
          276000,
          245000,
          280000,
          246700,
          280000,
          273000,
          199500,
          235000,
          235000,
          247000,
          289950,
          287000,
          248500,
          265000,
          275000,
          278000,
          285000,
          235000,
          235000,
          245000,
          290256,
          220000,
          220000,
          210000,
          270000,
          185850,
          294700,
          288000,
          266000,
          272000,
          235000,
          265000,
          289950,
          203000,
          250000,
          275000,
          252000,
          295000,
          237000,
          260000,
          300000,
          292000,
          289950,
          277000,
          279000,
          260000,
          245000,
          254000,
          267500,
          265000,
          235000,
          270000,
          225000,
          239999,
          289000,
          284000,
          295000,
          280017,
          269500,
          237000,
          292000,
          259900,
          242000,
          236775,
          299000,
          299900,
          224950,
          280000,
          279950,
          251000,
          287500,
          279000,
          220000,
          287000,
          285000,
          220000,
          285000,
          262500,
          212000,
          230000,
          265000,
          286000,
          270000,
          275000,
          270500,
          270000,
          281000,
          270000,
          289900,
          280000,
          287000,
          260000,
          265000,
          218000,
          245000,
          262000,
          270000,
          246000,
          257000,
          247000,
          268000,
          297300,
          229950,
          299950,
          263500,
          280000,
          241000,
          280000,
          262000,
          262000,
          255000,
          245000,
          257000,
          269950,
          285000,
          280000,
          280500,
          250000,
          229500,
          299950,
          297262,
          245000,
          299990,
          256750,
          300000,
          269950,
          255000,
          245700,
          182000,
          273000,
          299900,
          281000,
          268000,
          286500,
          250000,
          205000,
          255000,
          250000,
          219950,
          197400,
          258000,
          297000,
          269900,
          258500,
          275000,
          250000,
          300000,
          252000,
          279000,
          260000,
          280000,
          252000,
          271675,
          294000,
          249900,
          260000,
          230000,
          267500,
          240000,
          247200,
          231500,
          252000,
          280000,
          243500,
          289000,
          292000,
          300000,
          294000,
          294000,
          245000,
          272000,
          291000,
          290000,
          276750,
          250000,
          263950,
          217000,
          240000,
          270000,
          299500,
          283748,
          289000,
          169000,
          279950,
          289950,
          255000,
          190000,
          270000,
          275000,
          266750,
          210000,
          250000,
          260000,
          279000,
          215000,
          252500,
          300000,
          264500,
          260000,
          267000,
          295000,
          245000,
          269000,
          283000,
          229000,
          283000,
          237000,
          279000,
          280000,
          295000,
          298000,
          272000,
          250000,
          290000,
          204250,
          197000,
          268000,
          225000,
          257000,
          287600,
          258000,
          245000,
          293000,
          226500,
          280000,
          295000,
          225000,
          270000,
          245000,
          295000,
          212000,
          270000,
          230000,
          259000,
          280000,
          246500,
          260000,
          295000,
          230000,
          270000,
          235000,
          300000,
          270000,
          232603,
          203700,
          275000,
          250000,
          299500,
          252500,
          295000,
          225000,
          278000,
          269950,
          300000
         ]
        }
       ],
       "layout": {
        "coloraxis": {
         "colorbar": {
          "title": {
           "text": "price"
          }
         },
         "colorscale": [
          [
           0,
           "#0d0887"
          ],
          [
           0.1111111111111111,
           "#46039f"
          ],
          [
           0.2222222222222222,
           "#7201a8"
          ],
          [
           0.3333333333333333,
           "#9c179e"
          ],
          [
           0.4444444444444444,
           "#bd3786"
          ],
          [
           0.5555555555555556,
           "#d8576b"
          ],
          [
           0.6666666666666666,
           "#ed7953"
          ],
          [
           0.7777777777777778,
           "#fb9f3a"
          ],
          [
           0.8888888888888888,
           "#fdca26"
          ],
          [
           1,
           "#f0f921"
          ]
         ]
        },
        "height": 600,
        "legend": {
         "tracegroupgap": 0
        },
        "mapbox": {
         "center": {
          "lat": 47.36394918566776,
          "lon": -122.22491205211725
         },
         "domain": {
          "x": [
           0,
           1
          ],
          "y": [
           0,
           1
          ]
         },
         "style": "open-street-map",
         "zoom": 9
        },
        "margin": {
         "b": 0,
         "l": 0,
         "r": 0,
         "t": 0
        },
        "template": {
         "data": {
          "bar": [
           {
            "error_x": {
             "color": "#2a3f5f"
            },
            "error_y": {
             "color": "#2a3f5f"
            },
            "marker": {
             "line": {
              "color": "#E5ECF6",
              "width": 0.5
             },
             "pattern": {
              "fillmode": "overlay",
              "size": 10,
              "solidity": 0.2
             }
            },
            "type": "bar"
           }
          ],
          "barpolar": [
           {
            "marker": {
             "line": {
              "color": "#E5ECF6",
              "width": 0.5
             },
             "pattern": {
              "fillmode": "overlay",
              "size": 10,
              "solidity": 0.2
             }
            },
            "type": "barpolar"
           }
          ],
          "carpet": [
           {
            "aaxis": {
             "endlinecolor": "#2a3f5f",
             "gridcolor": "white",
             "linecolor": "white",
             "minorgridcolor": "white",
             "startlinecolor": "#2a3f5f"
            },
            "baxis": {
             "endlinecolor": "#2a3f5f",
             "gridcolor": "white",
             "linecolor": "white",
             "minorgridcolor": "white",
             "startlinecolor": "#2a3f5f"
            },
            "type": "carpet"
           }
          ],
          "choropleth": [
           {
            "colorbar": {
             "outlinewidth": 0,
             "ticks": ""
            },
            "type": "choropleth"
           }
          ],
          "contour": [
           {
            "colorbar": {
             "outlinewidth": 0,
             "ticks": ""
            },
            "colorscale": [
             [
              0,
              "#0d0887"
             ],
             [
              0.1111111111111111,
              "#46039f"
             ],
             [
              0.2222222222222222,
              "#7201a8"
             ],
             [
              0.3333333333333333,
              "#9c179e"
             ],
             [
              0.4444444444444444,
              "#bd3786"
             ],
             [
              0.5555555555555556,
              "#d8576b"
             ],
             [
              0.6666666666666666,
              "#ed7953"
             ],
             [
              0.7777777777777778,
              "#fb9f3a"
             ],
             [
              0.8888888888888888,
              "#fdca26"
             ],
             [
              1,
              "#f0f921"
             ]
            ],
            "type": "contour"
           }
          ],
          "contourcarpet": [
           {
            "colorbar": {
             "outlinewidth": 0,
             "ticks": ""
            },
            "type": "contourcarpet"
           }
          ],
          "heatmap": [
           {
            "colorbar": {
             "outlinewidth": 0,
             "ticks": ""
            },
            "colorscale": [
             [
              0,
              "#0d0887"
             ],
             [
              0.1111111111111111,
              "#46039f"
             ],
             [
              0.2222222222222222,
              "#7201a8"
             ],
             [
              0.3333333333333333,
              "#9c179e"
             ],
             [
              0.4444444444444444,
              "#bd3786"
             ],
             [
              0.5555555555555556,
              "#d8576b"
             ],
             [
              0.6666666666666666,
              "#ed7953"
             ],
             [
              0.7777777777777778,
              "#fb9f3a"
             ],
             [
              0.8888888888888888,
              "#fdca26"
             ],
             [
              1,
              "#f0f921"
             ]
            ],
            "type": "heatmap"
           }
          ],
          "heatmapgl": [
           {
            "colorbar": {
             "outlinewidth": 0,
             "ticks": ""
            },
            "colorscale": [
             [
              0,
              "#0d0887"
             ],
             [
              0.1111111111111111,
              "#46039f"
             ],
             [
              0.2222222222222222,
              "#7201a8"
             ],
             [
              0.3333333333333333,
              "#9c179e"
             ],
             [
              0.4444444444444444,
              "#bd3786"
             ],
             [
              0.5555555555555556,
              "#d8576b"
             ],
             [
              0.6666666666666666,
              "#ed7953"
             ],
             [
              0.7777777777777778,
              "#fb9f3a"
             ],
             [
              0.8888888888888888,
              "#fdca26"
             ],
             [
              1,
              "#f0f921"
             ]
            ],
            "type": "heatmapgl"
           }
          ],
          "histogram": [
           {
            "marker": {
             "pattern": {
              "fillmode": "overlay",
              "size": 10,
              "solidity": 0.2
             }
            },
            "type": "histogram"
           }
          ],
          "histogram2d": [
           {
            "colorbar": {
             "outlinewidth": 0,
             "ticks": ""
            },
            "colorscale": [
             [
              0,
              "#0d0887"
             ],
             [
              0.1111111111111111,
              "#46039f"
             ],
             [
              0.2222222222222222,
              "#7201a8"
             ],
             [
              0.3333333333333333,
              "#9c179e"
             ],
             [
              0.4444444444444444,
              "#bd3786"
             ],
             [
              0.5555555555555556,
              "#d8576b"
             ],
             [
              0.6666666666666666,
              "#ed7953"
             ],
             [
              0.7777777777777778,
              "#fb9f3a"
             ],
             [
              0.8888888888888888,
              "#fdca26"
             ],
             [
              1,
              "#f0f921"
             ]
            ],
            "type": "histogram2d"
           }
          ],
          "histogram2dcontour": [
           {
            "colorbar": {
             "outlinewidth": 0,
             "ticks": ""
            },
            "colorscale": [
             [
              0,
              "#0d0887"
             ],
             [
              0.1111111111111111,
              "#46039f"
             ],
             [
              0.2222222222222222,
              "#7201a8"
             ],
             [
              0.3333333333333333,
              "#9c179e"
             ],
             [
              0.4444444444444444,
              "#bd3786"
             ],
             [
              0.5555555555555556,
              "#d8576b"
             ],
             [
              0.6666666666666666,
              "#ed7953"
             ],
             [
              0.7777777777777778,
              "#fb9f3a"
             ],
             [
              0.8888888888888888,
              "#fdca26"
             ],
             [
              1,
              "#f0f921"
             ]
            ],
            "type": "histogram2dcontour"
           }
          ],
          "mesh3d": [
           {
            "colorbar": {
             "outlinewidth": 0,
             "ticks": ""
            },
            "type": "mesh3d"
           }
          ],
          "parcoords": [
           {
            "line": {
             "colorbar": {
              "outlinewidth": 0,
              "ticks": ""
             }
            },
            "type": "parcoords"
           }
          ],
          "pie": [
           {
            "automargin": true,
            "type": "pie"
           }
          ],
          "scatter": [
           {
            "fillpattern": {
             "fillmode": "overlay",
             "size": 10,
             "solidity": 0.2
            },
            "type": "scatter"
           }
          ],
          "scatter3d": [
           {
            "line": {
             "colorbar": {
              "outlinewidth": 0,
              "ticks": ""
             }
            },
            "marker": {
             "colorbar": {
              "outlinewidth": 0,
              "ticks": ""
             }
            },
            "type": "scatter3d"
           }
          ],
          "scattercarpet": [
           {
            "marker": {
             "colorbar": {
              "outlinewidth": 0,
              "ticks": ""
             }
            },
            "type": "scattercarpet"
           }
          ],
          "scattergeo": [
           {
            "marker": {
             "colorbar": {
              "outlinewidth": 0,
              "ticks": ""
             }
            },
            "type": "scattergeo"
           }
          ],
          "scattergl": [
           {
            "marker": {
             "colorbar": {
              "outlinewidth": 0,
              "ticks": ""
             }
            },
            "type": "scattergl"
           }
          ],
          "scattermapbox": [
           {
            "marker": {
             "colorbar": {
              "outlinewidth": 0,
              "ticks": ""
             }
            },
            "type": "scattermapbox"
           }
          ],
          "scatterpolar": [
           {
            "marker": {
             "colorbar": {
              "outlinewidth": 0,
              "ticks": ""
             }
            },
            "type": "scatterpolar"
           }
          ],
          "scatterpolargl": [
           {
            "marker": {
             "colorbar": {
              "outlinewidth": 0,
              "ticks": ""
             }
            },
            "type": "scatterpolargl"
           }
          ],
          "scatterternary": [
           {
            "marker": {
             "colorbar": {
              "outlinewidth": 0,
              "ticks": ""
             }
            },
            "type": "scatterternary"
           }
          ],
          "surface": [
           {
            "colorbar": {
             "outlinewidth": 0,
             "ticks": ""
            },
            "colorscale": [
             [
              0,
              "#0d0887"
             ],
             [
              0.1111111111111111,
              "#46039f"
             ],
             [
              0.2222222222222222,
              "#7201a8"
             ],
             [
              0.3333333333333333,
              "#9c179e"
             ],
             [
              0.4444444444444444,
              "#bd3786"
             ],
             [
              0.5555555555555556,
              "#d8576b"
             ],
             [
              0.6666666666666666,
              "#ed7953"
             ],
             [
              0.7777777777777778,
              "#fb9f3a"
             ],
             [
              0.8888888888888888,
              "#fdca26"
             ],
             [
              1,
              "#f0f921"
             ]
            ],
            "type": "surface"
           }
          ],
          "table": [
           {
            "cells": {
             "fill": {
              "color": "#EBF0F8"
             },
             "line": {
              "color": "white"
             }
            },
            "header": {
             "fill": {
              "color": "#C8D4E3"
             },
             "line": {
              "color": "white"
             }
            },
            "type": "table"
           }
          ]
         },
         "layout": {
          "annotationdefaults": {
           "arrowcolor": "#2a3f5f",
           "arrowhead": 0,
           "arrowwidth": 1
          },
          "autotypenumbers": "strict",
          "coloraxis": {
           "colorbar": {
            "outlinewidth": 0,
            "ticks": ""
           }
          },
          "colorscale": {
           "diverging": [
            [
             0,
             "#8e0152"
            ],
            [
             0.1,
             "#c51b7d"
            ],
            [
             0.2,
             "#de77ae"
            ],
            [
             0.3,
             "#f1b6da"
            ],
            [
             0.4,
             "#fde0ef"
            ],
            [
             0.5,
             "#f7f7f7"
            ],
            [
             0.6,
             "#e6f5d0"
            ],
            [
             0.7,
             "#b8e186"
            ],
            [
             0.8,
             "#7fbc41"
            ],
            [
             0.9,
             "#4d9221"
            ],
            [
             1,
             "#276419"
            ]
           ],
           "sequential": [
            [
             0,
             "#0d0887"
            ],
            [
             0.1111111111111111,
             "#46039f"
            ],
            [
             0.2222222222222222,
             "#7201a8"
            ],
            [
             0.3333333333333333,
             "#9c179e"
            ],
            [
             0.4444444444444444,
             "#bd3786"
            ],
            [
             0.5555555555555556,
             "#d8576b"
            ],
            [
             0.6666666666666666,
             "#ed7953"
            ],
            [
             0.7777777777777778,
             "#fb9f3a"
            ],
            [
             0.8888888888888888,
             "#fdca26"
            ],
            [
             1,
             "#f0f921"
            ]
           ],
           "sequentialminus": [
            [
             0,
             "#0d0887"
            ],
            [
             0.1111111111111111,
             "#46039f"
            ],
            [
             0.2222222222222222,
             "#7201a8"
            ],
            [
             0.3333333333333333,
             "#9c179e"
            ],
            [
             0.4444444444444444,
             "#bd3786"
            ],
            [
             0.5555555555555556,
             "#d8576b"
            ],
            [
             0.6666666666666666,
             "#ed7953"
            ],
            [
             0.7777777777777778,
             "#fb9f3a"
            ],
            [
             0.8888888888888888,
             "#fdca26"
            ],
            [
             1,
             "#f0f921"
            ]
           ]
          },
          "colorway": [
           "#636efa",
           "#EF553B",
           "#00cc96",
           "#ab63fa",
           "#FFA15A",
           "#19d3f3",
           "#FF6692",
           "#B6E880",
           "#FF97FF",
           "#FECB52"
          ],
          "font": {
           "color": "#2a3f5f"
          },
          "geo": {
           "bgcolor": "white",
           "lakecolor": "white",
           "landcolor": "#E5ECF6",
           "showlakes": true,
           "showland": true,
           "subunitcolor": "white"
          },
          "hoverlabel": {
           "align": "left"
          },
          "hovermode": "closest",
          "mapbox": {
           "style": "light"
          },
          "paper_bgcolor": "white",
          "plot_bgcolor": "#E5ECF6",
          "polar": {
           "angularaxis": {
            "gridcolor": "white",
            "linecolor": "white",
            "ticks": ""
           },
           "bgcolor": "#E5ECF6",
           "radialaxis": {
            "gridcolor": "white",
            "linecolor": "white",
            "ticks": ""
           }
          },
          "scene": {
           "xaxis": {
            "backgroundcolor": "#E5ECF6",
            "gridcolor": "white",
            "gridwidth": 2,
            "linecolor": "white",
            "showbackground": true,
            "ticks": "",
            "zerolinecolor": "white"
           },
           "yaxis": {
            "backgroundcolor": "#E5ECF6",
            "gridcolor": "white",
            "gridwidth": 2,
            "linecolor": "white",
            "showbackground": true,
            "ticks": "",
            "zerolinecolor": "white"
           },
           "zaxis": {
            "backgroundcolor": "#E5ECF6",
            "gridcolor": "white",
            "gridwidth": 2,
            "linecolor": "white",
            "showbackground": true,
            "ticks": "",
            "zerolinecolor": "white"
           }
          },
          "shapedefaults": {
           "line": {
            "color": "#2a3f5f"
           }
          },
          "ternary": {
           "aaxis": {
            "gridcolor": "white",
            "linecolor": "white",
            "ticks": ""
           },
           "baxis": {
            "gridcolor": "white",
            "linecolor": "white",
            "ticks": ""
           },
           "bgcolor": "#E5ECF6",
           "caxis": {
            "gridcolor": "white",
            "linecolor": "white",
            "ticks": ""
           }
          },
          "title": {
           "x": 0.05
          },
          "xaxis": {
           "automargin": true,
           "gridcolor": "white",
           "linecolor": "white",
           "ticks": "",
           "title": {
            "standoff": 15
           },
           "zerolinecolor": "white",
           "zerolinewidth": 2
          },
          "yaxis": {
           "automargin": true,
           "gridcolor": "white",
           "linecolor": "white",
           "ticks": "",
           "title": {
            "standoff": 15
           },
           "zerolinecolor": "white",
           "zerolinewidth": 2
          }
         }
        }
       }
      }
     },
     "metadata": {},
     "output_type": "display_data"
    }
   ],
   "source": [
    "# create geo heatmap with plotly express using lat and long of df_op_q2\n",
    "fig = px.density_mapbox(df_op_q2, lat='lat', lon='long', z='price', radius=10, zoom=9, height=600)\n",
    "fig.update_layout(mapbox_style='open-street-map')\n",
    "fig.update_layout(margin={'r':0, 't':0, 'l':0, 'b':0})\n",
    "fig.show()\n",
    "\n"
   ]
  },
  {
   "attachments": {},
   "cell_type": "markdown",
   "metadata": {},
   "source": [
    "# Question 3"
   ]
  },
  {
   "cell_type": "code",
   "execution_count": 365,
   "metadata": {},
   "outputs": [
    {
     "data": {
      "text/html": [
       "<div>\n",
       "<style scoped>\n",
       "    .dataframe tbody tr th:only-of-type {\n",
       "        vertical-align: middle;\n",
       "    }\n",
       "\n",
       "    .dataframe tbody tr th {\n",
       "        vertical-align: top;\n",
       "    }\n",
       "\n",
       "    .dataframe thead th {\n",
       "        text-align: right;\n",
       "    }\n",
       "</style>\n",
       "<table border=\"1\" class=\"dataframe\">\n",
       "  <thead>\n",
       "    <tr style=\"text-align: right;\">\n",
       "      <th></th>\n",
       "      <th>price</th>\n",
       "      <th>price_cat</th>\n",
       "      <th>price_sqm</th>\n",
       "      <th>sqm_living</th>\n",
       "      <th>sqm_living_cat</th>\n",
       "      <th>sqm_lot</th>\n",
       "      <th>bedrooms</th>\n",
       "      <th>bathrooms</th>\n",
       "      <th>lat</th>\n",
       "      <th>long</th>\n",
       "      <th>sales_month</th>\n",
       "      <th>sales_month_name</th>\n",
       "    </tr>\n",
       "  </thead>\n",
       "  <tbody>\n",
       "    <tr>\n",
       "      <th>5572</th>\n",
       "      <td>158550</td>\n",
       "      <td>100k-200k</td>\n",
       "      <td>997</td>\n",
       "      <td>159</td>\n",
       "      <td>100-200</td>\n",
       "      <td>753</td>\n",
       "      <td>5</td>\n",
       "      <td>2</td>\n",
       "      <td>47.384</td>\n",
       "      <td>-122.288</td>\n",
       "      <td>10</td>\n",
       "      <td>Oct</td>\n",
       "    </tr>\n",
       "    <tr>\n",
       "      <th>11745</th>\n",
       "      <td>160000</td>\n",
       "      <td>100k-200k</td>\n",
       "      <td>958</td>\n",
       "      <td>167</td>\n",
       "      <td>100-200</td>\n",
       "      <td>1368</td>\n",
       "      <td>4</td>\n",
       "      <td>2</td>\n",
       "      <td>47.487</td>\n",
       "      <td>-122.223</td>\n",
       "      <td>2</td>\n",
       "      <td>Feb</td>\n",
       "    </tr>\n",
       "    <tr>\n",
       "      <th>13170</th>\n",
       "      <td>161000</td>\n",
       "      <td>100k-200k</td>\n",
       "      <td>1019</td>\n",
       "      <td>158</td>\n",
       "      <td>100-200</td>\n",
       "      <td>747</td>\n",
       "      <td>4</td>\n",
       "      <td>2</td>\n",
       "      <td>47.476</td>\n",
       "      <td>-122.288</td>\n",
       "      <td>8</td>\n",
       "      <td>Aug</td>\n",
       "    </tr>\n",
       "    <tr>\n",
       "      <th>15142</th>\n",
       "      <td>169000</td>\n",
       "      <td>100k-200k</td>\n",
       "      <td>1056</td>\n",
       "      <td>160</td>\n",
       "      <td>100-200</td>\n",
       "      <td>908</td>\n",
       "      <td>3</td>\n",
       "      <td>2</td>\n",
       "      <td>47.373</td>\n",
       "      <td>-122.286</td>\n",
       "      <td>10</td>\n",
       "      <td>Oct</td>\n",
       "    </tr>\n",
       "    <tr>\n",
       "      <th>2808</th>\n",
       "      <td>175000</td>\n",
       "      <td>100k-200k</td>\n",
       "      <td>1122</td>\n",
       "      <td>156</td>\n",
       "      <td>100-200</td>\n",
       "      <td>780</td>\n",
       "      <td>5</td>\n",
       "      <td>2</td>\n",
       "      <td>47.303</td>\n",
       "      <td>-122.307</td>\n",
       "      <td>2</td>\n",
       "      <td>Feb</td>\n",
       "    </tr>\n",
       "    <tr>\n",
       "      <th>...</th>\n",
       "      <td>...</td>\n",
       "      <td>...</td>\n",
       "      <td>...</td>\n",
       "      <td>...</td>\n",
       "      <td>...</td>\n",
       "      <td>...</td>\n",
       "      <td>...</td>\n",
       "      <td>...</td>\n",
       "      <td>...</td>\n",
       "      <td>...</td>\n",
       "      <td>...</td>\n",
       "      <td>...</td>\n",
       "    </tr>\n",
       "    <tr>\n",
       "      <th>7111</th>\n",
       "      <td>300000</td>\n",
       "      <td>200k-300k</td>\n",
       "      <td>1579</td>\n",
       "      <td>190</td>\n",
       "      <td>100-200</td>\n",
       "      <td>1004</td>\n",
       "      <td>6</td>\n",
       "      <td>2</td>\n",
       "      <td>47.492</td>\n",
       "      <td>-122.181</td>\n",
       "      <td>5</td>\n",
       "      <td>May</td>\n",
       "    </tr>\n",
       "    <tr>\n",
       "      <th>7227</th>\n",
       "      <td>300000</td>\n",
       "      <td>200k-300k</td>\n",
       "      <td>1554</td>\n",
       "      <td>193</td>\n",
       "      <td>100-200</td>\n",
       "      <td>715</td>\n",
       "      <td>4</td>\n",
       "      <td>2</td>\n",
       "      <td>47.435</td>\n",
       "      <td>-122.170</td>\n",
       "      <td>9</td>\n",
       "      <td>Sep</td>\n",
       "    </tr>\n",
       "    <tr>\n",
       "      <th>16657</th>\n",
       "      <td>300000</td>\n",
       "      <td>200k-300k</td>\n",
       "      <td>1531</td>\n",
       "      <td>196</td>\n",
       "      <td>100-200</td>\n",
       "      <td>790</td>\n",
       "      <td>5</td>\n",
       "      <td>2</td>\n",
       "      <td>47.774</td>\n",
       "      <td>-122.350</td>\n",
       "      <td>11</td>\n",
       "      <td>Nov</td>\n",
       "    </tr>\n",
       "    <tr>\n",
       "      <th>12976</th>\n",
       "      <td>300000</td>\n",
       "      <td>200k-300k</td>\n",
       "      <td>1554</td>\n",
       "      <td>193</td>\n",
       "      <td>100-200</td>\n",
       "      <td>913</td>\n",
       "      <td>3</td>\n",
       "      <td>2</td>\n",
       "      <td>47.306</td>\n",
       "      <td>-122.394</td>\n",
       "      <td>5</td>\n",
       "      <td>May</td>\n",
       "    </tr>\n",
       "    <tr>\n",
       "      <th>2390</th>\n",
       "      <td>300000</td>\n",
       "      <td>200k-300k</td>\n",
       "      <td>1765</td>\n",
       "      <td>170</td>\n",
       "      <td>100-200</td>\n",
       "      <td>1185</td>\n",
       "      <td>3</td>\n",
       "      <td>2</td>\n",
       "      <td>47.500</td>\n",
       "      <td>-122.328</td>\n",
       "      <td>8</td>\n",
       "      <td>Aug</td>\n",
       "    </tr>\n",
       "  </tbody>\n",
       "</table>\n",
       "<p>544 rows × 12 columns</p>\n",
       "</div>"
      ],
      "text/plain": [
       "        price  price_cat  price_sqm  sqm_living sqm_living_cat  sqm_lot  \\\n",
       "5572   158550  100k-200k        997         159        100-200      753   \n",
       "11745  160000  100k-200k        958         167        100-200     1368   \n",
       "13170  161000  100k-200k       1019         158        100-200      747   \n",
       "15142  169000  100k-200k       1056         160        100-200      908   \n",
       "2808   175000  100k-200k       1122         156        100-200      780   \n",
       "...       ...        ...        ...         ...            ...      ...   \n",
       "7111   300000  200k-300k       1579         190        100-200     1004   \n",
       "7227   300000  200k-300k       1554         193        100-200      715   \n",
       "16657  300000  200k-300k       1531         196        100-200      790   \n",
       "12976  300000  200k-300k       1554         193        100-200      913   \n",
       "2390   300000  200k-300k       1765         170        100-200     1185   \n",
       "\n",
       "       bedrooms  bathrooms    lat     long  sales_month sales_month_name  \n",
       "5572          5          2 47.384 -122.288           10              Oct  \n",
       "11745         4          2 47.487 -122.223            2              Feb  \n",
       "13170         4          2 47.476 -122.288            8              Aug  \n",
       "15142         3          2 47.373 -122.286           10              Oct  \n",
       "2808          5          2 47.303 -122.307            2              Feb  \n",
       "...         ...        ...    ...      ...          ...              ...  \n",
       "7111          6          2 47.492 -122.181            5              May  \n",
       "7227          4          2 47.435 -122.170            9              Sep  \n",
       "16657         5          2 47.774 -122.350           11              Nov  \n",
       "12976         3          2 47.306 -122.394            5              May  \n",
       "2390          3          2 47.500 -122.328            8              Aug  \n",
       "\n",
       "[544 rows x 12 columns]"
      ]
     },
     "execution_count": 365,
     "metadata": {},
     "output_type": "execute_result"
    }
   ],
   "source": [
    "df_op_q3 = df_op[(df_op['bedrooms'] >= 2) & (df_op['bedrooms'] <= 6) & \n",
    "                    (df_op['bathrooms'] >= 2) & (df_op['bathrooms'] <= 3) & \n",
    "                    (df_op['sqm_living'] >= 150) & (df_op['sqm_living'] <= 200) & \n",
    "                    (df_op['sqm_lot'] >= 700) & (df_op['sqm_lot'] <= 1400) & \n",
    "                    (df_op['price'] >= 0) & (df_op['price'] <= 300000)\n",
    "                    ]\n",
    "\n",
    "df_op_q3.sort_values('price')\n"
   ]
  },
  {
   "cell_type": "code",
   "execution_count": 366,
   "metadata": {},
   "outputs": [],
   "source": [
    "df_op_q3 = df_op[(df_op['bedrooms'] >= 2) & (df_op['bedrooms'] <= 6) & \n",
    "                    (df_op['bathrooms'] >= 2) & (df_op['bathrooms'] <= 3) & \n",
    "                    (df_op['sqm_living'] >= 150) & (df_op['sqm_living'] <= 200) & \n",
    "                    (df_op['sqm_lot'] >= 700) & (df_op['sqm_lot'] <= 1400) & \n",
    "                    (df_op['price'] >= 0) & (df_op['price'] <= 265000)\n",
    "                    ]\n"
   ]
  },
  {
   "cell_type": "code",
   "execution_count": 399,
   "metadata": {},
   "outputs": [
    {
     "data": {
      "image/png": "[encoded data removed]",
      "text/plain": [
       "<Figure size 1200x600 with 1 Axes>"
      ]
     },
     "metadata": {},
     "output_type": "display_data"
    }
   ],
   "source": [
    "\n",
    "\n",
    "df_op_q3_viz = df_op_q3.groupby('sales_month_name')['price'].mean().sort_values(ascending=False).reset_index()\n",
    "\n",
    "plt.figure(figsize=(12, 6))\n",
    "sns.barplot(x='sales_month_name', y='price', data=df_op_q3_viz, palette='viridis')\n",
    "plt.title('Avg. Price per Month', fontsize=16)\n",
    "plt.xlabel('Month', fontsize=14)\n",
    "plt.ylabel('Price', fontsize=14)\n",
    "plt.xticks(rotation=45)\n",
    "# add value labels with dot a delimiter for thousands\n",
    "for i in range(len(df_op_q3_viz)):\n",
    "    plt.text(i, df_op_q3_viz['price'][i], f'{df_op_q3_viz[\"price\"][i]:,.0f}', ha='center', va='bottom', fontsize=12)\n",
    "    \n",
    "    \n",
    "plt.show()\n",
    "\n",
    "\n"
   ]
  },
  {
   "attachments": {},
   "cell_type": "markdown",
   "metadata": {},
   "source": [
    "checken ob durchschnittspreis in den monaten"
   ]
  },
  {
   "cell_type": "code",
   "execution_count": 333,
   "metadata": {},
   "outputs": [
    {
     "data": {
      "text/html": [
       "<div>\n",
       "<style scoped>\n",
       "    .dataframe tbody tr th:only-of-type {\n",
       "        vertical-align: middle;\n",
       "    }\n",
       "\n",
       "    .dataframe tbody tr th {\n",
       "        vertical-align: top;\n",
       "    }\n",
       "\n",
       "    .dataframe thead th {\n",
       "        text-align: right;\n",
       "    }\n",
       "</style>\n",
       "<table border=\"1\" class=\"dataframe\">\n",
       "  <thead>\n",
       "    <tr style=\"text-align: right;\">\n",
       "      <th></th>\n",
       "      <th>price</th>\n",
       "      <th>price_sqm</th>\n",
       "      <th>sqm_living</th>\n",
       "      <th>sqm_lot</th>\n",
       "      <th>bedrooms</th>\n",
       "      <th>bathrooms</th>\n",
       "      <th>lat</th>\n",
       "      <th>long</th>\n",
       "      <th>sales_month</th>\n",
       "    </tr>\n",
       "  </thead>\n",
       "  <tbody>\n",
       "    <tr>\n",
       "      <th>count</th>\n",
       "      <td>288.000</td>\n",
       "      <td>288.000</td>\n",
       "      <td>288.000</td>\n",
       "      <td>288.000</td>\n",
       "      <td>288.000</td>\n",
       "      <td>288.000</td>\n",
       "      <td>288.000</td>\n",
       "      <td>288.000</td>\n",
       "      <td>288.000</td>\n",
       "    </tr>\n",
       "    <tr>\n",
       "      <th>mean</th>\n",
       "      <td>236596.896</td>\n",
       "      <td>1400.955</td>\n",
       "      <td>169.847</td>\n",
       "      <td>877.024</td>\n",
       "      <td>3.507</td>\n",
       "      <td>2.028</td>\n",
       "      <td>47.366</td>\n",
       "      <td>-122.242</td>\n",
       "      <td>6.476</td>\n",
       "    </tr>\n",
       "    <tr>\n",
       "      <th>std</th>\n",
       "      <td>23062.604</td>\n",
       "      <td>170.038</td>\n",
       "      <td>13.877</td>\n",
       "      <td>154.869</td>\n",
       "      <td>0.693</td>\n",
       "      <td>0.165</td>\n",
       "      <td>0.086</td>\n",
       "      <td>0.100</td>\n",
       "      <td>3.353</td>\n",
       "    </tr>\n",
       "    <tr>\n",
       "      <th>min</th>\n",
       "      <td>158550.000</td>\n",
       "      <td>958.000</td>\n",
       "      <td>150.000</td>\n",
       "      <td>700.000</td>\n",
       "      <td>2.000</td>\n",
       "      <td>2.000</td>\n",
       "      <td>47.191</td>\n",
       "      <td>-122.400</td>\n",
       "      <td>1.000</td>\n",
       "    </tr>\n",
       "    <tr>\n",
       "      <th>25%</th>\n",
       "      <td>220000.000</td>\n",
       "      <td>1284.000</td>\n",
       "      <td>158.000</td>\n",
       "      <td>753.000</td>\n",
       "      <td>3.000</td>\n",
       "      <td>2.000</td>\n",
       "      <td>47.310</td>\n",
       "      <td>-122.311</td>\n",
       "      <td>4.000</td>\n",
       "    </tr>\n",
       "    <tr>\n",
       "      <th>50%</th>\n",
       "      <td>245000.000</td>\n",
       "      <td>1400.000</td>\n",
       "      <td>168.000</td>\n",
       "      <td>836.000</td>\n",
       "      <td>3.000</td>\n",
       "      <td>2.000</td>\n",
       "      <td>47.350</td>\n",
       "      <td>-122.266</td>\n",
       "      <td>6.000</td>\n",
       "    </tr>\n",
       "    <tr>\n",
       "      <th>75%</th>\n",
       "      <td>254000.000</td>\n",
       "      <td>1527.000</td>\n",
       "      <td>181.000</td>\n",
       "      <td>951.250</td>\n",
       "      <td>4.000</td>\n",
       "      <td>2.000</td>\n",
       "      <td>47.419</td>\n",
       "      <td>-122.182</td>\n",
       "      <td>9.000</td>\n",
       "    </tr>\n",
       "    <tr>\n",
       "      <th>max</th>\n",
       "      <td>265000.000</td>\n",
       "      <td>1757.000</td>\n",
       "      <td>200.000</td>\n",
       "      <td>1376.000</td>\n",
       "      <td>6.000</td>\n",
       "      <td>3.000</td>\n",
       "      <td>47.770</td>\n",
       "      <td>-121.982</td>\n",
       "      <td>12.000</td>\n",
       "    </tr>\n",
       "  </tbody>\n",
       "</table>\n",
       "</div>"
      ],
      "text/plain": [
       "           price  price_sqm  sqm_living  sqm_lot  bedrooms  bathrooms     lat  \\\n",
       "count    288.000    288.000     288.000  288.000   288.000    288.000 288.000   \n",
       "mean  236596.896   1400.955     169.847  877.024     3.507      2.028  47.366   \n",
       "std    23062.604    170.038      13.877  154.869     0.693      0.165   0.086   \n",
       "min   158550.000    958.000     150.000  700.000     2.000      2.000  47.191   \n",
       "25%   220000.000   1284.000     158.000  753.000     3.000      2.000  47.310   \n",
       "50%   245000.000   1400.000     168.000  836.000     3.000      2.000  47.350   \n",
       "75%   254000.000   1527.000     181.000  951.250     4.000      2.000  47.419   \n",
       "max   265000.000   1757.000     200.000 1376.000     6.000      3.000  47.770   \n",
       "\n",
       "          long  sales_month  \n",
       "count  288.000      288.000  \n",
       "mean  -122.242        6.476  \n",
       "std      0.100        3.353  \n",
       "min   -122.400        1.000  \n",
       "25%   -122.311        4.000  \n",
       "50%   -122.266        6.000  \n",
       "75%   -122.182        9.000  \n",
       "max   -121.982       12.000  "
      ]
     },
     "execution_count": 333,
     "metadata": {},
     "output_type": "execute_result"
    }
   ],
   "source": [
    "df_op_q3.describe()"
   ]
  },
  {
   "cell_type": "code",
   "execution_count": 368,
   "metadata": {},
   "outputs": [],
   "source": [
    "#from df_op_q3.value_counts('sales_month') extract all month under median\n"
   ]
  },
  {
   "cell_type": "code",
   "execution_count": null,
   "metadata": {},
   "outputs": [],
   "source": []
  }
 ],
 "metadata": {
  "kernelspec": {
   "display_name": ".venv",
   "language": "python",
   "name": "python3"
  },
  "language_info": {
   "codemirror_mode": {
    "name": "ipython",
    "version": 3
   },
   "file_extension": ".py",
   "mimetype": "text/x-python",
   "name": "python",
   "nbconvert_exporter": "python",
   "pygments_lexer": "ipython3",
   "version": "3.9.8"
  },
  "orig_nbformat": 4
 },
 "nbformat": 4,
 "nbformat_minor": 2
}
